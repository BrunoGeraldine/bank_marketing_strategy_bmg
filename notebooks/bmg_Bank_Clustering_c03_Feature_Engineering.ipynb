{
 "cells": [
  {
   "cell_type": "markdown",
   "metadata": {
    "ExecuteTime": {
     "end_time": "2021-10-21T21:20:24.673374Z",
     "start_time": "2021-10-21T21:20:24.670724Z"
    },
    "heading_collapsed": true
   },
   "source": [
    "# PA006 Bank Marketing Strategy\n",
    "\n",
    "    **Neste ciclo temos o objetivo de encontrar primeiramente as metricas para seguirmos nossa análise.**"
   ]
  },
  {
   "cell_type": "markdown",
   "metadata": {
    "ExecuteTime": {
     "end_time": "2021-10-21T21:22:08.658912Z",
     "start_time": "2021-10-21T21:22:08.656676Z"
    },
    "heading_collapsed": true,
    "hidden": true
   },
   "source": [
    "## Planejamento da Solução (IOT)"
   ]
  },
  {
   "cell_type": "markdown",
   "metadata": {
    "ExecuteTime": {
     "end_time": "2021-10-21T21:22:36.546169Z",
     "start_time": "2021-10-21T21:22:36.543881Z"
    },
    "heading_collapsed": true,
    "hidden": true
   },
   "source": [
    "### Input (Entrada)"
   ]
  },
  {
   "cell_type": "markdown",
   "metadata": {
    "hidden": true
   },
   "source": [
    "**Você foi contratado como um cientista de dados consultor, para criar um produto de dados que cria uma segmentação de clientes que direcionará a\n",
    "estratpegia de marketing e os resultados esperados do seu trabalho de consultoria, são os sequintes:**\n",
    "\n",
    "    1. Criar uma segmentação de clientes baseado em critérios claros de seleção;\n",
    "    2. Tornar a segmentação de clientes acessível para o time de operações.\n",
    "    3. Ensinar o time de operações sobre como usar a sua solução.\n",
    "    4. Transferir o conhecimento para os Cientistas de Dados da International Bank.\n",
    "    5. Recomendar 2-3 alavancas de negócio para cada segmento de clientes."
   ]
  },
  {
   "cell_type": "markdown",
   "metadata": {
    "heading_collapsed": true,
    "hidden": true
   },
   "source": [
    "### Output (Saída)"
   ]
  },
  {
   "cell_type": "markdown",
   "metadata": {
    "ExecuteTime": {
     "end_time": "2021-10-21T21:30:05.559983Z",
     "start_time": "2021-10-21T21:30:05.555206Z"
    },
    "hidden": true
   },
   "source": [
    "- Ferramentas:\n",
    "    - Metabase\n",
    "    - Streamlit\n",
    "\n",
    "\n",
    "- URL para o time de operação testar\n",
    "\n",
    "- Download dos dados selecionados"
   ]
  },
  {
   "cell_type": "markdown",
   "metadata": {
    "ExecuteTime": {
     "end_time": "2021-10-21T21:23:30.793012Z",
     "start_time": "2021-10-21T21:23:30.790354Z"
    },
    "heading_collapsed": true,
    "hidden": true
   },
   "source": [
    "### Tasks (Saída)"
   ]
  },
  {
   "cell_type": "markdown",
   "metadata": {
    "hidden": true
   },
   "source": [
    "- Descrição dos dados\n",
    "    - Substituição dos NA's.\n",
    "        \n",
    "- EDA\n",
    "    - Análise Univariada.\n",
    "    - Análise Bivariada\n",
    "    - Detecção de outliers\n",
    "    - Seleção de Features\n",
    "    - Estudo do Espaço\n",
    "    - Definição do Embedding\n",
    "    \n",
    "- Treinamento dos Algoritmos de ML.\n",
    "    - Análise de Performance\n",
    "    - Análise de Clustering\n",
    "    - Definição dos números de clustering\n",
    "    \n",
    "- EDA_Insights.\n",
    "    - Explicação das características dos segmentos\n",
    "    \n",
    "- Tabela para armazenar os clientes clusterizados.\n",
    "\n",
    "- Criação do notebook de produção\n",
    "\n",
    "- Arquitetura da AWS.\n",
    "    - S3 para armazenar os daos\n",
    "    - EC2 para armazenar o ETL e a ferramenta de visualização.\n",
    "    - DB para armazenar a tabela\n",
    "    - Cronjob\n",
    "    - Papermil\n",
    " "
   ]
  },
  {
   "cell_type": "markdown",
   "metadata": {
    "hidden": true
   },
   "source": [
    "**Descrição dos Dados**\n",
    "\n",
    "CUST_ID : Identification of Credit Card holder (Categorical)\n",
    "\n",
    "BALANCE : Balance amount left in their account to make purchases \n",
    "\n",
    "BALANCE_FREQUENCY : How frequently the Balance is updated, score between 0 and 1 (1 = frequently updated, 0 = not frequently updated)\n",
    "\n",
    "PURCHASES : Amount of purchases made from account\n",
    "\n",
    "ONEOFF_PURCHASES : Maximum purchase amount done in one-go\n",
    "\n",
    "INSTALLMENTS_PURCHASES : Amount of purchase done in installment\n",
    "\n",
    "CASH_ADVANCE : Cash in advance given by the user\n",
    "\n",
    "PURCHASES_FREQUENCY : How frequently the Purchases are being made, score between 0 and 1 (1 = frequently\n",
    "purchased, 0 = not frequently purchased)\n",
    "\n",
    "ONEOFF_PURCHASES_FREQUENCY : How frequently Purchases are happening in one-go (1 = frequently purchased, 0 = not frequently purchased)\n",
    "\n",
    "PURCHASES_INSTALLMENTS_FREQUENCY : How frequently purchases in installments are being done (1 = frequently done, 0 = not frequently done)\n",
    "\n",
    "CASH_ADVANCE_FREQUENCY : How frequently the cash in advance being paid\n",
    "\n",
    "CASH_ADVANCE_TRX : Number of Transactions made with \"Cash in Advanced\"\n",
    "\n",
    "PURCHASES_TRX : Numbe of purchase transactions made\n",
    "\n",
    "CREDIT_LIMIT : Limit of Credit Card for user\n",
    "\n",
    "PAYMENTS : Amount of Payment done by user\n",
    "\n",
    "MINIMUM_PAYMENTS : Minimum amount of payments made by user\n",
    "\n",
    "PRC_FULL_PAYMENT : Percent of full payment paid by user\n",
    "\n",
    "TENURE : Tenure of credit card service for user"
   ]
  },
  {
   "cell_type": "markdown",
   "metadata": {},
   "source": [
    "# 0.0 Imports"
   ]
  },
  {
   "cell_type": "code",
   "execution_count": 46,
   "metadata": {
    "ExecuteTime": {
     "end_time": "2021-12-20T22:05:10.043695Z",
     "start_time": "2021-12-20T22:05:10.035861Z"
    }
   },
   "outputs": [],
   "source": [
    "import numpy   as np\n",
    "import pandas  as pd\n",
    "import seaborn as sns\n",
    "\n",
    "#import umap.umap_ as umap\n",
    "\n",
    "from matplotlib          import pyplot               as plt\n",
    "from plotly              import express              as px\n",
    "from sklearn             import cluster              as c\n",
    "from sklearn             import metrics              as m\n",
    "from sklearn             import preprocessing        as pp\n",
    "from sklearn.metrics     import davies_bouldin_score as db\n",
    "from sklearn.cluster    import KMeans\n",
    "\n",
    "\n",
    "\n",
    "#from sklearn import clustering\n",
    "\n",
    "from IPython.display     import HTML\n",
    "from yellowbrick.cluster import KElbowVisualizer, SilhouetteVisualizer\n",
    "\n",
    "\n",
    "\n",
    "import warnings\n",
    "warnings.filterwarnings('ignore', category=DeprecationWarning)\n",
    "warnings.filterwarnings('ignore', category=FutureWarning)\n",
    "warnings.filterwarnings('ignore', category=UserWarning)\n",
    "warnings.filterwarnings('ignore')"
   ]
  },
  {
   "cell_type": "markdown",
   "metadata": {
    "ExecuteTime": {
     "end_time": "2021-10-22T18:09:24.590951Z",
     "start_time": "2021-10-22T18:09:24.588771Z"
    },
    "heading_collapsed": true
   },
   "source": [
    "## 0.1. Helper Functions"
   ]
  },
  {
   "cell_type": "code",
   "execution_count": 2,
   "metadata": {
    "ExecuteTime": {
     "end_time": "2021-12-20T21:38:49.399833Z",
     "start_time": "2021-12-20T21:38:49.375153Z"
    },
    "hidden": true
   },
   "outputs": [
    {
     "name": "stdout",
     "output_type": "stream",
     "text": [
      "Populating the interactive namespace from numpy and matplotlib\n"
     ]
    },
    {
     "data": {
      "text/html": [
       "<style>.container { width:100% !important; }</style>"
      ],
      "text/plain": [
       "<IPython.core.display.HTML object>"
      ]
     },
     "metadata": {},
     "output_type": "display_data"
    }
   ],
   "source": [
    "def jupyter_settings():\n",
    "    %matplotlib inline\n",
    "    %pylab inline\n",
    "    \n",
    "    plt.style.use( 'ggplot')\n",
    "    plt.rcParams['figure.figsize'] = [24, 9]\n",
    "    plt.rcParams['font.size'] = 24\n",
    "    \n",
    "    display( HTML( '<style>.container { width:100% !important; }</style>') )\n",
    "    pd.options.display.max_columns = None\n",
    "    pd.options.display.max_rows = None\n",
    "    pd.set_option( 'display.expand_frame_repr', False )\n",
    "    \n",
    "    sns.set(rc={'figure.figsize':(20,10)})\n",
    "    \n",
    "    sns.set()\n",
    "    \n",
    "jupyter_settings()"
   ]
  },
  {
   "cell_type": "markdown",
   "metadata": {
    "heading_collapsed": true
   },
   "source": [
    "## 0.2. Load dataset"
   ]
  },
  {
   "cell_type": "code",
   "execution_count": 3,
   "metadata": {
    "ExecuteTime": {
     "end_time": "2021-12-20T21:38:51.289755Z",
     "start_time": "2021-12-20T21:38:51.260983Z"
    },
    "hidden": true
   },
   "outputs": [],
   "source": [
    "# load data\n",
    "df_raw = pd.read_csv( '../data/raw/cc_general.csv' )"
   ]
  },
  {
   "cell_type": "markdown",
   "metadata": {
    "heading_collapsed": true
   },
   "source": [
    "# 1.0 Data Description"
   ]
  },
  {
   "cell_type": "code",
   "execution_count": 4,
   "metadata": {
    "ExecuteTime": {
     "end_time": "2021-12-20T21:38:52.672004Z",
     "start_time": "2021-12-20T21:38:52.668017Z"
    },
    "hidden": true
   },
   "outputs": [],
   "source": [
    "df1 = df_raw.copy()"
   ]
  },
  {
   "cell_type": "markdown",
   "metadata": {
    "ExecuteTime": {
     "end_time": "2021-10-22T18:21:31.435199Z",
     "start_time": "2021-10-22T18:21:31.433037Z"
    },
    "hidden": true
   },
   "source": [
    "## 1.1. Columns Rename"
   ]
  },
  {
   "cell_type": "code",
   "execution_count": 5,
   "metadata": {
    "ExecuteTime": {
     "end_time": "2021-12-20T21:38:53.521300Z",
     "start_time": "2021-12-20T21:38:53.498788Z"
    },
    "hidden": true
   },
   "outputs": [
    {
     "data": {
      "text/html": [
       "<div>\n",
       "<style scoped>\n",
       "    .dataframe tbody tr th:only-of-type {\n",
       "        vertical-align: middle;\n",
       "    }\n",
       "\n",
       "    .dataframe tbody tr th {\n",
       "        vertical-align: top;\n",
       "    }\n",
       "\n",
       "    .dataframe thead th {\n",
       "        text-align: right;\n",
       "    }\n",
       "</style>\n",
       "<table border=\"1\" class=\"dataframe\">\n",
       "  <thead>\n",
       "    <tr style=\"text-align: right;\">\n",
       "      <th></th>\n",
       "      <th>cust_id</th>\n",
       "      <th>balance</th>\n",
       "      <th>balance_frequency</th>\n",
       "      <th>purchases</th>\n",
       "      <th>oneoff_purchases</th>\n",
       "      <th>installments_purchases</th>\n",
       "      <th>cash_advance</th>\n",
       "      <th>purchases_frequency</th>\n",
       "      <th>oneoff_purchases_frequency</th>\n",
       "      <th>purchases_installments_frequency</th>\n",
       "      <th>cash_advance_frequency</th>\n",
       "      <th>cash_advance_trx</th>\n",
       "      <th>purchases_trx</th>\n",
       "      <th>credit_limit</th>\n",
       "      <th>payments</th>\n",
       "      <th>minimum_payments</th>\n",
       "      <th>prc_full_payment</th>\n",
       "      <th>tenure</th>\n",
       "    </tr>\n",
       "  </thead>\n",
       "  <tbody>\n",
       "    <tr>\n",
       "      <th>0</th>\n",
       "      <td>C10001</td>\n",
       "      <td>40.900749</td>\n",
       "      <td>0.818182</td>\n",
       "      <td>95.40</td>\n",
       "      <td>0.00</td>\n",
       "      <td>95.4</td>\n",
       "      <td>0.000000</td>\n",
       "      <td>0.166667</td>\n",
       "      <td>0.000000</td>\n",
       "      <td>0.083333</td>\n",
       "      <td>0.000000</td>\n",
       "      <td>0</td>\n",
       "      <td>2</td>\n",
       "      <td>1000.0</td>\n",
       "      <td>201.802084</td>\n",
       "      <td>139.509787</td>\n",
       "      <td>0.000000</td>\n",
       "      <td>12</td>\n",
       "    </tr>\n",
       "    <tr>\n",
       "      <th>1</th>\n",
       "      <td>C10002</td>\n",
       "      <td>3202.467416</td>\n",
       "      <td>0.909091</td>\n",
       "      <td>0.00</td>\n",
       "      <td>0.00</td>\n",
       "      <td>0.0</td>\n",
       "      <td>6442.945483</td>\n",
       "      <td>0.000000</td>\n",
       "      <td>0.000000</td>\n",
       "      <td>0.000000</td>\n",
       "      <td>0.250000</td>\n",
       "      <td>4</td>\n",
       "      <td>0</td>\n",
       "      <td>7000.0</td>\n",
       "      <td>4103.032597</td>\n",
       "      <td>1072.340217</td>\n",
       "      <td>0.222222</td>\n",
       "      <td>12</td>\n",
       "    </tr>\n",
       "    <tr>\n",
       "      <th>2</th>\n",
       "      <td>C10003</td>\n",
       "      <td>2495.148862</td>\n",
       "      <td>1.000000</td>\n",
       "      <td>773.17</td>\n",
       "      <td>773.17</td>\n",
       "      <td>0.0</td>\n",
       "      <td>0.000000</td>\n",
       "      <td>1.000000</td>\n",
       "      <td>1.000000</td>\n",
       "      <td>0.000000</td>\n",
       "      <td>0.000000</td>\n",
       "      <td>0</td>\n",
       "      <td>12</td>\n",
       "      <td>7500.0</td>\n",
       "      <td>622.066742</td>\n",
       "      <td>627.284787</td>\n",
       "      <td>0.000000</td>\n",
       "      <td>12</td>\n",
       "    </tr>\n",
       "    <tr>\n",
       "      <th>3</th>\n",
       "      <td>C10004</td>\n",
       "      <td>1666.670542</td>\n",
       "      <td>0.636364</td>\n",
       "      <td>1499.00</td>\n",
       "      <td>1499.00</td>\n",
       "      <td>0.0</td>\n",
       "      <td>205.788017</td>\n",
       "      <td>0.083333</td>\n",
       "      <td>0.083333</td>\n",
       "      <td>0.000000</td>\n",
       "      <td>0.083333</td>\n",
       "      <td>1</td>\n",
       "      <td>1</td>\n",
       "      <td>7500.0</td>\n",
       "      <td>0.000000</td>\n",
       "      <td>NaN</td>\n",
       "      <td>0.000000</td>\n",
       "      <td>12</td>\n",
       "    </tr>\n",
       "    <tr>\n",
       "      <th>4</th>\n",
       "      <td>C10005</td>\n",
       "      <td>817.714335</td>\n",
       "      <td>1.000000</td>\n",
       "      <td>16.00</td>\n",
       "      <td>16.00</td>\n",
       "      <td>0.0</td>\n",
       "      <td>0.000000</td>\n",
       "      <td>0.083333</td>\n",
       "      <td>0.083333</td>\n",
       "      <td>0.000000</td>\n",
       "      <td>0.000000</td>\n",
       "      <td>0</td>\n",
       "      <td>1</td>\n",
       "      <td>1200.0</td>\n",
       "      <td>678.334763</td>\n",
       "      <td>244.791237</td>\n",
       "      <td>0.000000</td>\n",
       "      <td>12</td>\n",
       "    </tr>\n",
       "  </tbody>\n",
       "</table>\n",
       "</div>"
      ],
      "text/plain": [
       "  cust_id      balance  balance_frequency  purchases  oneoff_purchases  installments_purchases  cash_advance  purchases_frequency  oneoff_purchases_frequency  purchases_installments_frequency  cash_advance_frequency  cash_advance_trx  purchases_trx  credit_limit     payments  minimum_payments  prc_full_payment  tenure\n",
       "0  C10001    40.900749           0.818182      95.40              0.00                    95.4      0.000000             0.166667                    0.000000                          0.083333                0.000000                 0              2        1000.0   201.802084        139.509787          0.000000      12\n",
       "1  C10002  3202.467416           0.909091       0.00              0.00                     0.0   6442.945483             0.000000                    0.000000                          0.000000                0.250000                 4              0        7000.0  4103.032597       1072.340217          0.222222      12\n",
       "2  C10003  2495.148862           1.000000     773.17            773.17                     0.0      0.000000             1.000000                    1.000000                          0.000000                0.000000                 0             12        7500.0   622.066742        627.284787          0.000000      12\n",
       "3  C10004  1666.670542           0.636364    1499.00           1499.00                     0.0    205.788017             0.083333                    0.083333                          0.000000                0.083333                 1              1        7500.0     0.000000               NaN          0.000000      12\n",
       "4  C10005   817.714335           1.000000      16.00             16.00                     0.0      0.000000             0.083333                    0.083333                          0.000000                0.000000                 0              1        1200.0   678.334763        244.791237          0.000000      12"
      ]
     },
     "execution_count": 5,
     "metadata": {},
     "output_type": "execute_result"
    }
   ],
   "source": [
    "df1.columns = df1.columns.str.lower()\n",
    "df1.head()"
   ]
  },
  {
   "cell_type": "markdown",
   "metadata": {
    "hidden": true
   },
   "source": [
    "## 1.2. Data Dimensions"
   ]
  },
  {
   "cell_type": "code",
   "execution_count": 6,
   "metadata": {
    "ExecuteTime": {
     "end_time": "2021-12-20T21:38:54.495997Z",
     "start_time": "2021-12-20T21:38:54.490071Z"
    },
    "hidden": true
   },
   "outputs": [
    {
     "name": "stdout",
     "output_type": "stream",
     "text": [
      "Number of rows: 8950\n",
      "Number of cols: 18\n"
     ]
    }
   ],
   "source": [
    "print( 'Number of rows: {}'.format( df1.shape[0] ) )\n",
    "print( 'Number of cols: {}'.format( df1.shape[1] ) )"
   ]
  },
  {
   "cell_type": "markdown",
   "metadata": {
    "hidden": true
   },
   "source": [
    "## 1.3. Data types"
   ]
  },
  {
   "cell_type": "code",
   "execution_count": 7,
   "metadata": {
    "ExecuteTime": {
     "end_time": "2021-12-20T21:38:55.392613Z",
     "start_time": "2021-12-20T21:38:55.385094Z"
    },
    "hidden": true
   },
   "outputs": [
    {
     "data": {
      "text/plain": [
       "cust_id                              object\n",
       "balance                             float64\n",
       "balance_frequency                   float64\n",
       "purchases                           float64\n",
       "oneoff_purchases                    float64\n",
       "installments_purchases              float64\n",
       "cash_advance                        float64\n",
       "purchases_frequency                 float64\n",
       "oneoff_purchases_frequency          float64\n",
       "purchases_installments_frequency    float64\n",
       "cash_advance_frequency              float64\n",
       "cash_advance_trx                      int64\n",
       "purchases_trx                         int64\n",
       "credit_limit                        float64\n",
       "payments                            float64\n",
       "minimum_payments                    float64\n",
       "prc_full_payment                    float64\n",
       "tenure                                int64\n",
       "dtype: object"
      ]
     },
     "execution_count": 7,
     "metadata": {},
     "output_type": "execute_result"
    }
   ],
   "source": [
    "df1.dtypes"
   ]
  },
  {
   "cell_type": "markdown",
   "metadata": {
    "hidden": true
   },
   "source": [
    "## 1.4. Check NA"
   ]
  },
  {
   "cell_type": "code",
   "execution_count": 8,
   "metadata": {
    "ExecuteTime": {
     "end_time": "2021-12-20T21:38:56.257920Z",
     "start_time": "2021-12-20T21:38:56.249572Z"
    },
    "cell_style": "split",
    "hidden": true
   },
   "outputs": [
    {
     "data": {
      "text/plain": [
       "cust_id                               0\n",
       "balance                               0\n",
       "balance_frequency                     0\n",
       "purchases                             0\n",
       "oneoff_purchases                      0\n",
       "installments_purchases                0\n",
       "cash_advance                          0\n",
       "purchases_frequency                   0\n",
       "oneoff_purchases_frequency            0\n",
       "purchases_installments_frequency      0\n",
       "cash_advance_frequency                0\n",
       "cash_advance_trx                      0\n",
       "purchases_trx                         0\n",
       "credit_limit                          1\n",
       "payments                              0\n",
       "minimum_payments                    313\n",
       "prc_full_payment                      0\n",
       "tenure                                0\n",
       "dtype: int64"
      ]
     },
     "execution_count": 8,
     "metadata": {},
     "output_type": "execute_result"
    }
   ],
   "source": [
    "df1.isna().sum()"
   ]
  },
  {
   "cell_type": "code",
   "execution_count": 9,
   "metadata": {
    "ExecuteTime": {
     "end_time": "2021-12-20T21:38:56.702335Z",
     "start_time": "2021-12-20T21:38:56.693354Z"
    },
    "cell_style": "split",
    "hidden": true
   },
   "outputs": [
    {
     "data": {
      "text/plain": [
       "cust_id                             0.000000\n",
       "balance                             0.000000\n",
       "balance_frequency                   0.000000\n",
       "purchases                           0.000000\n",
       "oneoff_purchases                    0.000000\n",
       "installments_purchases              0.000000\n",
       "cash_advance                        0.000000\n",
       "purchases_frequency                 0.000000\n",
       "oneoff_purchases_frequency          0.000000\n",
       "purchases_installments_frequency    0.000000\n",
       "cash_advance_frequency              0.000000\n",
       "cash_advance_trx                    0.000000\n",
       "purchases_trx                       0.000000\n",
       "credit_limit                        0.000112\n",
       "payments                            0.000000\n",
       "minimum_payments                    0.034972\n",
       "prc_full_payment                    0.000000\n",
       "tenure                              0.000000\n",
       "dtype: float64"
      ]
     },
     "execution_count": 9,
     "metadata": {},
     "output_type": "execute_result"
    }
   ],
   "source": [
    "df1.isna().sum() / df1.shape[0]"
   ]
  },
  {
   "cell_type": "markdown",
   "metadata": {
    "hidden": true
   },
   "source": [
    "## 1.5. Replace NA"
   ]
  },
  {
   "cell_type": "markdown",
   "metadata": {
    "hidden": true
   },
   "source": [
    "* No primeiro ciclo assumimos como erro as NA's\n",
    "* No segundo ciclo, assumimos que os NA's devem ser tratados"
   ]
  },
  {
   "cell_type": "code",
   "execution_count": 10,
   "metadata": {
    "ExecuteTime": {
     "end_time": "2021-12-20T21:38:58.322964Z",
     "start_time": "2021-12-20T21:38:58.311163Z"
    },
    "cell_style": "split",
    "hidden": true
   },
   "outputs": [
    {
     "name": "stdout",
     "output_type": "stream",
     "text": [
      "Removed data: 0.04\n"
     ]
    }
   ],
   "source": [
    "df1 = df1.dropna( subset=['minimum_payments','credit_limit'] )\n",
    "print( 'Removed data: {:.2f}'.format( 1-( df1.shape[0] / df_raw.shape[0] ) ) )\n",
    "# Mostrando a relevancia dos valores NA's excluidos = 0.04"
   ]
  },
  {
   "cell_type": "code",
   "execution_count": 11,
   "metadata": {
    "ExecuteTime": {
     "end_time": "2021-12-20T21:38:58.818289Z",
     "start_time": "2021-12-20T21:38:58.807105Z"
    },
    "cell_style": "split",
    "hidden": true
   },
   "outputs": [
    {
     "data": {
      "text/plain": [
       "credit_limit        0\n",
       "minimum_payments    0\n",
       "dtype: int64"
      ]
     },
     "execution_count": 11,
     "metadata": {},
     "output_type": "execute_result"
    }
   ],
   "source": [
    "df1[['credit_limit', 'minimum_payments']].isna().sum()"
   ]
  },
  {
   "cell_type": "code",
   "execution_count": 12,
   "metadata": {
    "ExecuteTime": {
     "end_time": "2021-12-20T21:38:59.426035Z",
     "start_time": "2021-12-20T21:38:59.417924Z"
    },
    "hidden": true
   },
   "outputs": [
    {
     "data": {
      "text/plain": [
       "cust_id                             0\n",
       "balance                             0\n",
       "balance_frequency                   0\n",
       "purchases                           0\n",
       "oneoff_purchases                    0\n",
       "installments_purchases              0\n",
       "cash_advance                        0\n",
       "purchases_frequency                 0\n",
       "oneoff_purchases_frequency          0\n",
       "purchases_installments_frequency    0\n",
       "cash_advance_frequency              0\n",
       "cash_advance_trx                    0\n",
       "purchases_trx                       0\n",
       "credit_limit                        0\n",
       "payments                            0\n",
       "minimum_payments                    0\n",
       "prc_full_payment                    0\n",
       "tenure                              0\n",
       "dtype: int64"
      ]
     },
     "execution_count": 12,
     "metadata": {},
     "output_type": "execute_result"
    }
   ],
   "source": [
    "# Encontramos cerca de 313 customers com valores Na's em pagamento minimo da fatura e 1 cliente sem limite de credito.\n",
    "# optei em não descartar esses clientes.\n",
    "\n",
    "#df1 = df1.fillna(0) # substituindo valores NaN por zero\n",
    "df1.isna().sum()"
   ]
  },
  {
   "cell_type": "markdown",
   "metadata": {
    "hidden": true
   },
   "source": [
    "## 1.6. Change dtypes"
   ]
  },
  {
   "cell_type": "code",
   "execution_count": 13,
   "metadata": {
    "ExecuteTime": {
     "end_time": "2021-12-20T21:39:01.243040Z",
     "start_time": "2021-12-20T21:39:01.226601Z"
    },
    "hidden": true
   },
   "outputs": [
    {
     "data": {
      "text/plain": [
       "(8636, 17)"
      ]
     },
     "execution_count": 13,
     "metadata": {},
     "output_type": "execute_result"
    }
   ],
   "source": [
    "num_attributes = df1.select_dtypes(include=('int64', 'float64'))\n",
    "cat_attributes = df1.select_dtypes(exclude=('int64', 'float64', 'datetime64[ns]'))\n",
    "num_attributes.shape # Verificando o tamanho do novo df para os valores numericos (8936 linhas e 17 colunas)"
   ]
  },
  {
   "cell_type": "markdown",
   "metadata": {
    "hidden": true
   },
   "source": [
    "### The First E.D.A → Variable analysis"
   ]
  },
  {
   "cell_type": "code",
   "execution_count": 14,
   "metadata": {
    "ExecuteTime": {
     "end_time": "2021-12-20T21:39:02.318879Z",
     "start_time": "2021-12-20T21:39:02.314501Z"
    },
    "hidden": true
   },
   "outputs": [],
   "source": [
    "# Analise exploratoria\n",
    "# quando vemos que a mediana é menor que a media, significa que os valores estão abaixo dos valores proximo a media\n",
    "# ou seja, ocorrem com mais frequencia abaixo da media, skewness negativa"
   ]
  },
  {
   "cell_type": "code",
   "execution_count": 15,
   "metadata": {
    "ExecuteTime": {
     "end_time": "2021-12-20T21:39:03.087553Z",
     "start_time": "2021-12-20T21:39:03.082846Z"
    },
    "code_folding": [],
    "hidden": true
   },
   "outputs": [],
   "source": [
    "# Nesse momento passamos por todos os 4 momentos da estatistica\n",
    "\n",
    "#1. Estimativa de Localização\n",
    "#    1. Média\n",
    "#    2. Mediana\n",
    "#    3. Mínimo\n",
    "#    4. Máximo\n",
    "#\n",
    "#2. Estimativa de Variabilidade\n",
    "#    1. Desvio\n",
    "#    2. Variância\n",
    "#    3. Devio Padrão\n",
    "#    4. Range (intervalo)\n",
    "#    \n",
    "#3. Skewness\n",
    "#4. Kurtosis\n",
    "    "
   ]
  },
  {
   "cell_type": "code",
   "execution_count": 16,
   "metadata": {
    "ExecuteTime": {
     "end_time": "2021-12-20T21:39:03.722616Z",
     "start_time": "2021-12-20T21:39:03.616849Z"
    },
    "hidden": true
   },
   "outputs": [
    {
     "data": {
      "text/html": [
       "<div>\n",
       "<style scoped>\n",
       "    .dataframe tbody tr th:only-of-type {\n",
       "        vertical-align: middle;\n",
       "    }\n",
       "\n",
       "    .dataframe tbody tr th {\n",
       "        vertical-align: top;\n",
       "    }\n",
       "\n",
       "    .dataframe thead th {\n",
       "        text-align: right;\n",
       "    }\n",
       "</style>\n",
       "<table border=\"1\" class=\"dataframe\">\n",
       "  <thead>\n",
       "    <tr style=\"text-align: right;\">\n",
       "      <th></th>\n",
       "      <th>attributes</th>\n",
       "      <th>min</th>\n",
       "      <th>max</th>\n",
       "      <th>range</th>\n",
       "      <th>mean</th>\n",
       "      <th>median</th>\n",
       "      <th>desvio_padrao</th>\n",
       "      <th>skewness</th>\n",
       "      <th>kurtosis</th>\n",
       "      <th>P10</th>\n",
       "      <th>P25</th>\n",
       "      <th>P50</th>\n",
       "      <th>P75</th>\n",
       "      <th>P95</th>\n",
       "      <th>P99</th>\n",
       "    </tr>\n",
       "  </thead>\n",
       "  <tbody>\n",
       "    <tr>\n",
       "      <th>0</th>\n",
       "      <td>balance</td>\n",
       "      <td>0.000000</td>\n",
       "      <td>19043.13856</td>\n",
       "      <td>19043.138560</td>\n",
       "      <td>1601.224893</td>\n",
       "      <td>916.855459</td>\n",
       "      <td>2095.449969</td>\n",
       "      <td>2.374254</td>\n",
       "      <td>7.553876</td>\n",
       "      <td>29.093764</td>\n",
       "      <td>148.095189</td>\n",
       "      <td>916.855459</td>\n",
       "      <td>2105.195853</td>\n",
       "      <td>5936.635587</td>\n",
       "      <td>9369.550879</td>\n",
       "    </tr>\n",
       "    <tr>\n",
       "      <th>1</th>\n",
       "      <td>balance_frequency</td>\n",
       "      <td>0.000000</td>\n",
       "      <td>1.00000</td>\n",
       "      <td>1.000000</td>\n",
       "      <td>0.895035</td>\n",
       "      <td>1.000000</td>\n",
       "      <td>0.207685</td>\n",
       "      <td>-2.084161</td>\n",
       "      <td>3.369586</td>\n",
       "      <td>0.545455</td>\n",
       "      <td>0.909091</td>\n",
       "      <td>1.000000</td>\n",
       "      <td>1.000000</td>\n",
       "      <td>1.000000</td>\n",
       "      <td>1.000000</td>\n",
       "    </tr>\n",
       "    <tr>\n",
       "      <th>2</th>\n",
       "      <td>purchases</td>\n",
       "      <td>0.000000</td>\n",
       "      <td>49039.57000</td>\n",
       "      <td>49039.570000</td>\n",
       "      <td>1025.433874</td>\n",
       "      <td>375.405000</td>\n",
       "      <td>2166.982511</td>\n",
       "      <td>8.055789</td>\n",
       "      <td>108.677684</td>\n",
       "      <td>0.000000</td>\n",
       "      <td>43.367500</td>\n",
       "      <td>375.405000</td>\n",
       "      <td>1145.980000</td>\n",
       "      <td>4060.092500</td>\n",
       "      <td>9127.092000</td>\n",
       "    </tr>\n",
       "    <tr>\n",
       "      <th>3</th>\n",
       "      <td>oneoff_purchases</td>\n",
       "      <td>0.000000</td>\n",
       "      <td>40761.25000</td>\n",
       "      <td>40761.250000</td>\n",
       "      <td>604.901438</td>\n",
       "      <td>44.995000</td>\n",
       "      <td>1684.210284</td>\n",
       "      <td>9.935776</td>\n",
       "      <td>160.121308</td>\n",
       "      <td>0.000000</td>\n",
       "      <td>0.000000</td>\n",
       "      <td>44.995000</td>\n",
       "      <td>599.100000</td>\n",
       "      <td>2728.372500</td>\n",
       "      <td>6783.896500</td>\n",
       "    </tr>\n",
       "    <tr>\n",
       "      <th>4</th>\n",
       "      <td>installments_purchases</td>\n",
       "      <td>0.000000</td>\n",
       "      <td>22500.00000</td>\n",
       "      <td>22500.000000</td>\n",
       "      <td>420.843533</td>\n",
       "      <td>94.785000</td>\n",
       "      <td>917.192075</td>\n",
       "      <td>7.216133</td>\n",
       "      <td>94.193373</td>\n",
       "      <td>0.000000</td>\n",
       "      <td>0.000000</td>\n",
       "      <td>94.785000</td>\n",
       "      <td>484.147500</td>\n",
       "      <td>1800.000000</td>\n",
       "      <td>3916.483000</td>\n",
       "    </tr>\n",
       "    <tr>\n",
       "      <th>5</th>\n",
       "      <td>cash_advance</td>\n",
       "      <td>0.000000</td>\n",
       "      <td>47137.21176</td>\n",
       "      <td>47137.211760</td>\n",
       "      <td>994.175523</td>\n",
       "      <td>0.000000</td>\n",
       "      <td>2121.335473</td>\n",
       "      <td>5.139629</td>\n",
       "      <td>52.143523</td>\n",
       "      <td>0.000000</td>\n",
       "      <td>0.000000</td>\n",
       "      <td>0.000000</td>\n",
       "      <td>1132.385490</td>\n",
       "      <td>4721.415498</td>\n",
       "      <td>9681.634354</td>\n",
       "    </tr>\n",
       "    <tr>\n",
       "      <th>6</th>\n",
       "      <td>purchases_frequency</td>\n",
       "      <td>0.000000</td>\n",
       "      <td>1.00000</td>\n",
       "      <td>1.000000</td>\n",
       "      <td>0.496000</td>\n",
       "      <td>0.500000</td>\n",
       "      <td>0.401249</td>\n",
       "      <td>0.033041</td>\n",
       "      <td>-1.638001</td>\n",
       "      <td>0.000000</td>\n",
       "      <td>0.083333</td>\n",
       "      <td>0.500000</td>\n",
       "      <td>0.916667</td>\n",
       "      <td>1.000000</td>\n",
       "      <td>1.000000</td>\n",
       "    </tr>\n",
       "    <tr>\n",
       "      <th>7</th>\n",
       "      <td>oneoff_purchases_frequency</td>\n",
       "      <td>0.000000</td>\n",
       "      <td>1.00000</td>\n",
       "      <td>1.000000</td>\n",
       "      <td>0.205909</td>\n",
       "      <td>0.083333</td>\n",
       "      <td>0.300036</td>\n",
       "      <td>1.504234</td>\n",
       "      <td>1.058206</td>\n",
       "      <td>0.000000</td>\n",
       "      <td>0.000000</td>\n",
       "      <td>0.083333</td>\n",
       "      <td>0.333333</td>\n",
       "      <td>1.000000</td>\n",
       "      <td>1.000000</td>\n",
       "    </tr>\n",
       "    <tr>\n",
       "      <th>8</th>\n",
       "      <td>purchases_installments_frequency</td>\n",
       "      <td>0.000000</td>\n",
       "      <td>1.00000</td>\n",
       "      <td>1.000000</td>\n",
       "      <td>0.368820</td>\n",
       "      <td>0.166667</td>\n",
       "      <td>0.398070</td>\n",
       "      <td>0.487753</td>\n",
       "      <td>-1.419279</td>\n",
       "      <td>0.000000</td>\n",
       "      <td>0.000000</td>\n",
       "      <td>0.166667</td>\n",
       "      <td>0.750000</td>\n",
       "      <td>1.000000</td>\n",
       "      <td>1.000000</td>\n",
       "    </tr>\n",
       "    <tr>\n",
       "      <th>9</th>\n",
       "      <td>cash_advance_frequency</td>\n",
       "      <td>0.000000</td>\n",
       "      <td>1.50000</td>\n",
       "      <td>1.500000</td>\n",
       "      <td>0.137604</td>\n",
       "      <td>0.000000</td>\n",
       "      <td>0.201780</td>\n",
       "      <td>1.795915</td>\n",
       "      <td>3.184233</td>\n",
       "      <td>0.000000</td>\n",
       "      <td>0.000000</td>\n",
       "      <td>0.000000</td>\n",
       "      <td>0.250000</td>\n",
       "      <td>0.583333</td>\n",
       "      <td>0.833333</td>\n",
       "    </tr>\n",
       "    <tr>\n",
       "      <th>10</th>\n",
       "      <td>cash_advance_trx</td>\n",
       "      <td>0.000000</td>\n",
       "      <td>123.00000</td>\n",
       "      <td>123.000000</td>\n",
       "      <td>3.313918</td>\n",
       "      <td>0.000000</td>\n",
       "      <td>6.912106</td>\n",
       "      <td>5.673327</td>\n",
       "      <td>60.428523</td>\n",
       "      <td>0.000000</td>\n",
       "      <td>0.000000</td>\n",
       "      <td>0.000000</td>\n",
       "      <td>4.000000</td>\n",
       "      <td>15.000000</td>\n",
       "      <td>30.000000</td>\n",
       "    </tr>\n",
       "    <tr>\n",
       "      <th>11</th>\n",
       "      <td>purchases_trx</td>\n",
       "      <td>0.000000</td>\n",
       "      <td>358.00000</td>\n",
       "      <td>358.000000</td>\n",
       "      <td>15.033233</td>\n",
       "      <td>7.000000</td>\n",
       "      <td>25.179010</td>\n",
       "      <td>4.578418</td>\n",
       "      <td>33.952279</td>\n",
       "      <td>0.000000</td>\n",
       "      <td>1.000000</td>\n",
       "      <td>7.000000</td>\n",
       "      <td>18.000000</td>\n",
       "      <td>59.000000</td>\n",
       "      <td>117.650000</td>\n",
       "    </tr>\n",
       "    <tr>\n",
       "      <th>12</th>\n",
       "      <td>credit_limit</td>\n",
       "      <td>50.000000</td>\n",
       "      <td>30000.00000</td>\n",
       "      <td>29950.000000</td>\n",
       "      <td>4522.091030</td>\n",
       "      <td>3000.000000</td>\n",
       "      <td>3659.028513</td>\n",
       "      <td>1.507019</td>\n",
       "      <td>2.773473</td>\n",
       "      <td>1200.000000</td>\n",
       "      <td>1600.000000</td>\n",
       "      <td>3000.000000</td>\n",
       "      <td>6500.000000</td>\n",
       "      <td>12000.000000</td>\n",
       "      <td>17000.000000</td>\n",
       "    </tr>\n",
       "    <tr>\n",
       "      <th>13</th>\n",
       "      <td>payments</td>\n",
       "      <td>0.049513</td>\n",
       "      <td>50721.48336</td>\n",
       "      <td>50721.433847</td>\n",
       "      <td>1784.478099</td>\n",
       "      <td>896.675701</td>\n",
       "      <td>2909.641616</td>\n",
       "      <td>5.873049</td>\n",
       "      <td>54.270814</td>\n",
       "      <td>214.777650</td>\n",
       "      <td>418.559237</td>\n",
       "      <td>896.675701</td>\n",
       "      <td>1951.142090</td>\n",
       "      <td>6152.318659</td>\n",
       "      <td>13657.620792</td>\n",
       "    </tr>\n",
       "    <tr>\n",
       "      <th>14</th>\n",
       "      <td>minimum_payments</td>\n",
       "      <td>0.019163</td>\n",
       "      <td>76406.20752</td>\n",
       "      <td>76406.188357</td>\n",
       "      <td>864.304943</td>\n",
       "      <td>312.452292</td>\n",
       "      <td>2372.428981</td>\n",
       "      <td>13.622193</td>\n",
       "      <td>283.963042</td>\n",
       "      <td>106.113465</td>\n",
       "      <td>169.163545</td>\n",
       "      <td>312.452292</td>\n",
       "      <td>825.496463</td>\n",
       "      <td>2766.593894</td>\n",
       "      <td>9037.885662</td>\n",
       "    </tr>\n",
       "    <tr>\n",
       "      <th>15</th>\n",
       "      <td>prc_full_payment</td>\n",
       "      <td>0.000000</td>\n",
       "      <td>1.00000</td>\n",
       "      <td>1.000000</td>\n",
       "      <td>0.159304</td>\n",
       "      <td>0.000000</td>\n",
       "      <td>0.296254</td>\n",
       "      <td>1.886027</td>\n",
       "      <td>2.201598</td>\n",
       "      <td>0.000000</td>\n",
       "      <td>0.000000</td>\n",
       "      <td>0.000000</td>\n",
       "      <td>0.166667</td>\n",
       "      <td>1.000000</td>\n",
       "      <td>1.000000</td>\n",
       "    </tr>\n",
       "    <tr>\n",
       "      <th>16</th>\n",
       "      <td>tenure</td>\n",
       "      <td>6.000000</td>\n",
       "      <td>12.00000</td>\n",
       "      <td>6.000000</td>\n",
       "      <td>11.534391</td>\n",
       "      <td>12.000000</td>\n",
       "      <td>1.310908</td>\n",
       "      <td>-3.011141</td>\n",
       "      <td>8.156701</td>\n",
       "      <td>10.000000</td>\n",
       "      <td>12.000000</td>\n",
       "      <td>12.000000</td>\n",
       "      <td>12.000000</td>\n",
       "      <td>12.000000</td>\n",
       "      <td>12.000000</td>\n",
       "    </tr>\n",
       "  </tbody>\n",
       "</table>\n",
       "</div>"
      ],
      "text/plain": [
       "                          attributes        min          max         range         mean       median  desvio_padrao   skewness    kurtosis          P10          P25          P50          P75           P95           P99\n",
       "0                            balance   0.000000  19043.13856  19043.138560  1601.224893   916.855459    2095.449969   2.374254    7.553876    29.093764   148.095189   916.855459  2105.195853   5936.635587   9369.550879\n",
       "1                  balance_frequency   0.000000      1.00000      1.000000     0.895035     1.000000       0.207685  -2.084161    3.369586     0.545455     0.909091     1.000000     1.000000      1.000000      1.000000\n",
       "2                          purchases   0.000000  49039.57000  49039.570000  1025.433874   375.405000    2166.982511   8.055789  108.677684     0.000000    43.367500   375.405000  1145.980000   4060.092500   9127.092000\n",
       "3                   oneoff_purchases   0.000000  40761.25000  40761.250000   604.901438    44.995000    1684.210284   9.935776  160.121308     0.000000     0.000000    44.995000   599.100000   2728.372500   6783.896500\n",
       "4             installments_purchases   0.000000  22500.00000  22500.000000   420.843533    94.785000     917.192075   7.216133   94.193373     0.000000     0.000000    94.785000   484.147500   1800.000000   3916.483000\n",
       "5                       cash_advance   0.000000  47137.21176  47137.211760   994.175523     0.000000    2121.335473   5.139629   52.143523     0.000000     0.000000     0.000000  1132.385490   4721.415498   9681.634354\n",
       "6                purchases_frequency   0.000000      1.00000      1.000000     0.496000     0.500000       0.401249   0.033041   -1.638001     0.000000     0.083333     0.500000     0.916667      1.000000      1.000000\n",
       "7         oneoff_purchases_frequency   0.000000      1.00000      1.000000     0.205909     0.083333       0.300036   1.504234    1.058206     0.000000     0.000000     0.083333     0.333333      1.000000      1.000000\n",
       "8   purchases_installments_frequency   0.000000      1.00000      1.000000     0.368820     0.166667       0.398070   0.487753   -1.419279     0.000000     0.000000     0.166667     0.750000      1.000000      1.000000\n",
       "9             cash_advance_frequency   0.000000      1.50000      1.500000     0.137604     0.000000       0.201780   1.795915    3.184233     0.000000     0.000000     0.000000     0.250000      0.583333      0.833333\n",
       "10                  cash_advance_trx   0.000000    123.00000    123.000000     3.313918     0.000000       6.912106   5.673327   60.428523     0.000000     0.000000     0.000000     4.000000     15.000000     30.000000\n",
       "11                     purchases_trx   0.000000    358.00000    358.000000    15.033233     7.000000      25.179010   4.578418   33.952279     0.000000     1.000000     7.000000    18.000000     59.000000    117.650000\n",
       "12                      credit_limit  50.000000  30000.00000  29950.000000  4522.091030  3000.000000    3659.028513   1.507019    2.773473  1200.000000  1600.000000  3000.000000  6500.000000  12000.000000  17000.000000\n",
       "13                          payments   0.049513  50721.48336  50721.433847  1784.478099   896.675701    2909.641616   5.873049   54.270814   214.777650   418.559237   896.675701  1951.142090   6152.318659  13657.620792\n",
       "14                  minimum_payments   0.019163  76406.20752  76406.188357   864.304943   312.452292    2372.428981  13.622193  283.963042   106.113465   169.163545   312.452292   825.496463   2766.593894   9037.885662\n",
       "15                  prc_full_payment   0.000000      1.00000      1.000000     0.159304     0.000000       0.296254   1.886027    2.201598     0.000000     0.000000     0.000000     0.166667      1.000000      1.000000\n",
       "16                            tenure   6.000000     12.00000      6.000000    11.534391    12.000000       1.310908  -3.011141    8.156701    10.000000    12.000000    12.000000    12.000000     12.000000     12.000000"
      ]
     },
     "execution_count": 16,
     "metadata": {},
     "output_type": "execute_result"
    }
   ],
   "source": [
    "# Estimadores de localização (media, mediana, min, max)\n",
    "est1 = pd.DataFrame(num_attributes.apply( np.mean )).T # para transpor devemos transformar num DF\n",
    "est2 = pd.DataFrame(num_attributes.apply( np.median )).T\n",
    "est3 = pd.DataFrame(num_attributes.apply( np.min )).T\n",
    "est4 = pd.DataFrame(num_attributes.apply( np.max )).T\n",
    "\n",
    "# Estimadores de variabilidade (desvio padrão, range)\n",
    "est5 = pd.DataFrame(num_attributes.apply( np.std )).T\n",
    "est6 = pd.DataFrame(num_attributes.apply( lambda x: x.max() - x.min() )).T\n",
    "\n",
    "# Skewness and Kurtosis\n",
    "est7 = pd.DataFrame(num_attributes.apply( lambda x: x.skew()  )).T\n",
    "est8 = pd.DataFrame(num_attributes.apply( lambda x: x.kurtosis() )).T\n",
    "\n",
    "# Concatenate and rename to columns\n",
    "m1 = pd.concat( [est3, est4, est6, est1, est2, est5, est7, est8 ]).T.reset_index() #reunindo as metricas\n",
    "m1.columns = ['attributes', 'min', 'max', 'range', 'mean', 'median', 'desvio_padrao', 'skewness', 'kurtosis']\n",
    "\n",
    "# Quantile\n",
    "#quartis = num_attributes.apply(lambda x: np.quantile(x, q=[0.25, 0.50, 0.75])).T.reset_index()\n",
    "#quartis.columns = ['attributes', 'Q1', 'Q2', 'Q3']\n",
    "\n",
    "# Percentis\n",
    "quartis = num_attributes.apply(lambda x: np.percentile(x, q=[10, 25, 50, 75, 95, 99])).T.reset_index()\n",
    "quartis.columns = ['attributes', 'P10', 'P25', 'P50', 'P75', 'P95', 'P99']\n",
    "\n",
    "\n",
    "# Merge\n",
    "m2= pd.merge(m1, quartis, how='inner', on='attributes')\n",
    "m2"
   ]
  },
  {
   "cell_type": "code",
   "execution_count": 154,
   "metadata": {
    "ExecuteTime": {
     "end_time": "2021-12-20T16:49:02.469217Z",
     "start_time": "2021-12-20T16:49:02.462492Z"
    },
    "hidden": true
   },
   "outputs": [],
   "source": [
    "# Mediana, Moda, < Media = assimetria → deslocamento a direita = Positiva (media maior que mediana)"
   ]
  },
  {
   "cell_type": "code",
   "execution_count": 155,
   "metadata": {
    "ExecuteTime": {
     "end_time": "2021-12-20T16:49:02.640831Z",
     "start_time": "2021-12-20T16:49:02.636900Z"
    },
    "hidden": true
   },
   "outputs": [],
   "source": [
    " ### Outliers\n",
    "### Balance: Quanto eu já gastei no cartão ( Fatura atual )\n",
    "### Segunda Opção sobre o Balance ( Saldo ): Fatural atual - limite do cartão. O quanto falta de limite disponível para compra.\n",
    "\n",
    "## Balance Frequency: Frequência de uso do cartão ( usabilidade )\n",
    "\n",
    "## Purchases: O valor gasto no cartão acumulado dos últimos 6 meses ( a soma de todos os valores quando a pessoa passou o cartão na máquina de cartão )\n",
    "\n",
    "## Purchases On-Off: A soma de todas as compras pagas 1x no cartão, nos últimos 6 meses.\n",
    "## ( Categoria )\n",
    "\n",
    "## Installmente Purchases: A soma de todas as compras pagas em mais de 1x no cartão, nos últimos 6 meses.\n",
    "## ( Categoria )\n",
    "\n",
    "## Cash Advance: Valor do saque do limite do cartão de crédito, acumulado dos últimos 6 meses.\n",
    "## Um adiantamento em dinheiro é basicamente um empréstimo de curto prazo oferecido pelo emissor do \n",
    "## cartão de crédito . Quando você pega um adiantamento em dinheiro, está tomando dinheiro emprestado \n",
    "## contra a linha de crédito do seu cartão.\n",
    "\n",
    "## Purchases Frequency: Um valor de 0 a 1 que identifica a frequência de compra do cliente\n",
    "\n",
    "## Cash Advance Frequency: A frequência com que o cliente faz retiradas de dinheiro do seu cartão de crédito.\n",
    "\n",
    "## Cash Advance TRX: A quantidade de saques da conta do cartão de crédito\n",
    "\n",
    "## Purchases TRX: A quantidade de compras realizadas no cartão de crédito.\n",
    "\n",
    "## Credit Limit: O limite do cartão de crédito.\n",
    "\n",
    "## Payments: O valor pago além do mínimo da fatura ( não necessariamente a fatura toda )\n",
    "\n",
    "## Minimum Payments: O valor mínimo pago da fatura\n",
    "\n",
    "## Por exemplo:\n",
    "## Fatura total ( Payments ): 3000 \n",
    "## Pagamento mínimo ( mínimum payments ): 2000 \n",
    "## Pagamento efetivo de R$2.500\n",
    "\n",
    "## Payment = 500 \n",
    "## Minimum payments = 2000\n",
    "## Pagamento efeito = Payments + Minimum Payments\n",
    "\n",
    "## Tenure: O tempo de posse do cartão em meses ( O tempo em que a pessoa é cliente do banco )"
   ]
  },
  {
   "cell_type": "markdown",
   "metadata": {
    "hidden": true
   },
   "source": [
    "### Validaçãos dos possiveis Outliers"
   ]
  },
  {
   "cell_type": "code",
   "execution_count": 156,
   "metadata": {
    "ExecuteTime": {
     "end_time": "2021-12-20T16:49:02.946917Z",
     "start_time": "2021-12-20T16:49:02.944017Z"
    },
    "hidden": true
   },
   "outputs": [],
   "source": [
    "# Validando os valores máximos e mínimos do conjunto de dados\n",
    "#Q1 = np.quantile( num_attributes['purchases'], q=[0.25, 0.50, 0.75 ])[0]\n",
    "#Q2 = np.quantile( num_attributes['purchases'], q=[0.25, 0.50, 0.75 ])[1]\n",
    "#Q3 = np.quan#tile( num_attributes['purchases'], q=[0.25, 0.50, 0.75 ])[2]"
   ]
  },
  {
   "cell_type": "code",
   "execution_count": 157,
   "metadata": {
    "ExecuteTime": {
     "end_time": "2021-12-20T16:49:03.604662Z",
     "start_time": "2021-12-20T16:49:03.600081Z"
    },
    "hidden": true
   },
   "outputs": [],
   "source": [
    "#Validando o outliers\n",
    "# todo valor acima do maximo (3 quartil) será outlier\n",
    " \n",
    "#b = Q3 - 1.5 * (Q3-Q1)\n",
    "#c = Q3 + 1.5 * (Q3-Q1)\n",
    "\n",
    "#O resultado mostra um valor menor que o maximo valor da tabela, ou seja, o resultade abaixo \n",
    "#é o maximo valor do Quartil 3 (ultima linha do boxplot)\n",
    "#print(f'O menor valor assumido dentro dos quartis é {b} e o maior valor dentro dos quartis é {c}.\\nQualquer valor diferente desses seram outliers')"
   ]
  },
  {
   "cell_type": "code",
   "execution_count": 158,
   "metadata": {
    "ExecuteTime": {
     "end_time": "2021-12-20T16:49:03.807556Z",
     "start_time": "2021-12-20T16:49:03.803080Z"
    },
    "hidden": true
   },
   "outputs": [],
   "source": [
    "# Nos Percentis, podemos analisar onde e quantos são os clientes dentro desse range de valores.\n",
    "# No P99, mostramos que, 99% dos nossos clientes estão localizados abaixo do valor 9369,00\n",
    "# ou seja, 1% ou (num_attributes.shape[0]*0.01) 86 clientes gastam acima de 9369 (podem ser outliers)\n",
    "#num_attributes['purchases'].max()"
   ]
  },
  {
   "cell_type": "code",
   "execution_count": 17,
   "metadata": {
    "ExecuteTime": {
     "end_time": "2021-12-20T21:39:13.000290Z",
     "start_time": "2021-12-20T21:39:12.329559Z"
    },
    "cell_style": "split",
    "hidden": true
   },
   "outputs": [
    {
     "data": {
      "image/png": "[encoded data removed]",
      "text/plain": [
       "<Figure size 1440x720 with 1 Axes>"
      ]
     },
     "metadata": {},
     "output_type": "display_data"
    }
   ],
   "source": [
    "#plt.figure(figsize=(20, 10))\n",
    "sns.histplot(num_attributes['credit_limit']);"
   ]
  },
  {
   "cell_type": "code",
   "execution_count": 19,
   "metadata": {
    "ExecuteTime": {
     "end_time": "2021-12-20T21:39:37.961045Z",
     "start_time": "2021-12-20T21:39:37.481519Z"
    },
    "cell_style": "split",
    "hidden": true,
    "scrolled": true
   },
   "outputs": [
    {
     "data": {
      "image/png": "[encoded data removed]",
      "text/plain": [
       "<Figure size 1440x720 with 1 Axes>"
      ]
     },
     "metadata": {},
     "output_type": "display_data"
    }
   ],
   "source": [
    "#plt.figure(figsize=(20, 10))\n",
    "sns.boxplot( x='credit_limit', whis=1.5,  data=num_attributes);\n",
    "# por padrão o whis do boxplot é igual a 1.5, porém, conseguimos \n",
    "# alterar esse valor (whis= x) elevando ou diminuindo o valor maximo do \n",
    "# boxplot e por consequencia, assumindo um range maior para a \n",
    "# definição de outliers."
   ]
  },
  {
   "cell_type": "code",
   "execution_count": 20,
   "metadata": {
    "ExecuteTime": {
     "end_time": "2021-12-20T21:40:02.524283Z",
     "start_time": "2021-12-20T21:40:00.640162Z"
    },
    "hidden": true
   },
   "outputs": [
    {
     "data": {
      "image/png": "[encoded data removed]",
      "text/plain": [
       "<Figure size 1440x720 with 1 Axes>"
      ]
     },
     "metadata": {},
     "output_type": "display_data"
    }
   ],
   "source": [
    "#plt.figure(figsize=(10, 5))\n",
    "sns.histplot(num_attributes['oneoff_purchases']);"
   ]
  },
  {
   "cell_type": "markdown",
   "metadata": {
    "hidden": true
   },
   "source": [
    "### Skewness"
   ]
  },
  {
   "cell_type": "markdown",
   "metadata": {
    "ExecuteTime": {
     "end_time": "2021-12-14T14:05:43.588695Z",
     "start_time": "2021-12-14T14:05:43.585247Z"
    },
    "hidden": true
   },
   "source": [
    "Medida de assimetria da distribuição dos dados, em relaçãoa uma distribuição normal.\n",
    "A distribuição normal tem simetria a média, ou seja, 50% dos dados estão a esquerda e a direita\n",
    "Skewness Positiva e Negativa\n",
    "    - Mediana > Média: Deslocamento para a esquerda = Skewnes Negativa\n",
    "    - Mediana < Média: Deslocamento para a direita = Skewnes Positiva\n",
    "        "
   ]
  },
  {
   "cell_type": "markdown",
   "metadata": {
    "hidden": true
   },
   "source": [
    "### Kurtosis"
   ]
  },
  {
   "cell_type": "markdown",
   "metadata": {
    "ExecuteTime": {
     "end_time": "2021-12-14T14:05:43.918596Z",
     "start_time": "2021-12-14T14:05:43.915708Z"
    },
    "hidden": true
   },
   "source": [
    "* Kurtosis evidência as caudas longas (probabilidade de acontever valor extremos, sejam mínimos ou máximos)"
   ]
  },
  {
   "cell_type": "markdown",
   "metadata": {
    "hidden": true
   },
   "source": [
    "### Desvio padrão"
   ]
  },
  {
   "cell_type": "markdown",
   "metadata": {
    "ExecuteTime": {
     "end_time": "2021-11-25T22:15:33.718898Z",
     "start_time": "2021-11-25T22:15:33.714435Z"
    },
    "hidden": true
   },
   "source": [
    "- Estimativa de dispersão ou variabilidade\n",
    "- Mede a dispersão dos valores do conjunto de dados em torno de uma estimativa de localização ( média )"
   ]
  },
  {
   "cell_type": "markdown",
   "metadata": {
    "hidden": true
   },
   "source": [
    "a = [ 1, 5, 7, 10, 15], media = 7.6\n",
    "\n",
    "- Desvio:\n",
    "    1 - 7.6 = ( - 6.6 )\n",
    "    5 - 7.6 = ( - 2.6 )\n",
    "    7 - 7.6 = ( - 0.6 )\n",
    "    10 - 7.6 = ( + 2.4 )\n",
    "    15 - 7.6 = ( + 7.4 )\n",
    "\n",
    "- Variância:\n",
    "    1 - 7.6 = ( - 6.6 )**2 = 43.56\n",
    "    5 - 7.6 = ( - 2.6 )**2 = 6.76\n",
    "    7 - 7.6 = ( - 0.6 )**2 = 0.36\n",
    "    10 - 7.6 = ( + 2.4 )**2= 5.76\n",
    "    15 - 7.6 = ( + 7.4 )**2 = 54.76\n",
    "    \n",
    "    ( 43.56 + 6.76 + 0.36 + 5.76 + 54.76) / ( 5 ) = 22.24 L^2\n",
    "\n",
    "- Desvio Padrão: A raíz quadrada da variância\n",
    "    1 - 7.6 = ( - 6.6 )**2 = 43.56\n",
    "   5 - 7.6 = ( - 2.6 )**2 = 6.76\n",
    "    7 - 7.6 = ( - 0.6 )**2 = 0.36\n",
    "    10 - 7.6 = ( + 2.4 )**2= 5.76\n",
    "    15 - 7.6 = ( + 7.4 )**2 = 54.76\n",
    "    \n",
    "    np.sqrt( ( 43.56 + 6.76 + 0.36 + 5.76 + 54.76) / ( 5 - 1) = 27.79 ) = 5.27\n",
    "\n",
    "np.sqrt ( ( 43.56 + 6.76 + 0.36 + 5.76 + 54.76) / ( 5 - 1) )"
   ]
  },
  {
   "cell_type": "markdown",
   "metadata": {
    "hidden": true
   },
   "source": [
    "### Quartis (Quantile)"
   ]
  },
  {
   "cell_type": "markdown",
   "metadata": {
    "hidden": true
   },
   "source": [
    "* Um quartil é qualquer um dos três valores que divide o conjunto de dados ordenado em 4 partes iguais, e assim cada parte representa 1/4 da amostra original.\n",
    "\n",
    "**Primeiro Quartil** ( quartil inferior): É o valor do conjunto de dados que delimita os 25% menores valores.\n",
    "\n",
    "**Segundo Quartil** (quartil do meio): É o valor do conjunto de dados que delimita os 50% menores valores.\n",
    "\n",
    "**Tericeiro Quartil** (quartil do Superior): É o valor do conjunto de dados que delimita os 75% menores valores."
   ]
  },
  {
   "cell_type": "markdown",
   "metadata": {
    "hidden": true
   },
   "source": [
    "### Percentis"
   ]
  },
  {
   "cell_type": "markdown",
   "metadata": {
    "hidden": true
   },
   "source": [
    "* Os Percentis são medidas que dividem a amostra ordenada em 100 partes, cada uma com uma porcentagem de dados aproximadamente igual.\n",
    "\n",
    "- O percentil 1 → determina o 1% dos menores valores do conjunto de dados (1% dos dados são menores que P1)\n",
    "- O Percentil 10 → determina os 10% dos menores valores do conjunto de dados (10% dos dados são menores que P10)\n",
    "- O Percentil 25 → determina os 25% dos menores ou iguais valores do conjunto de dados (25% dos dados são menores que P10) = 1º Quartil\n",
    "- O Percentil 50 → determina os 50% dos menores ou iguais valores do conjunto de dados (50% dos dados são menores que P10) = 2º Quartil\n",
    "- O Percentil 75 → determina os 75% dos menores ou iguais valores do conjunto de dados (75% dos dados são menores que P10) = 3º Quartil\n",
    "\n",
    "**_Todo quartil e percentil são métricas de proporções, todo quartil e percentil tem distancias iguais, que é uma distancia de uma unidade do seu valor, ou seja, tamanhos iguais._**"
   ]
  },
  {
   "cell_type": "markdown",
   "metadata": {
    "hidden": true
   },
   "source": [
    "### Mínimo"
   ]
  },
  {
   "cell_type": "markdown",
   "metadata": {
    "hidden": true
   },
   "source": [
    "* Menor valor de um conjunto de dados"
   ]
  },
  {
   "cell_type": "markdown",
   "metadata": {
    "hidden": true
   },
   "source": [
    "### Máximo"
   ]
  },
  {
   "cell_type": "markdown",
   "metadata": {
    "hidden": true
   },
   "source": [
    "* Maior valor de um conjunto de dados"
   ]
  },
  {
   "cell_type": "markdown",
   "metadata": {
    "hidden": true
   },
   "source": [
    "### Intervalo"
   ]
  },
  {
   "cell_type": "markdown",
   "metadata": {
    "hidden": true
   },
   "source": [
    "* A diferença entre o maior e o menor valor do conjunto de dados\n",
    "* Escala dos dados"
   ]
  },
  {
   "cell_type": "markdown",
   "metadata": {
    "hidden": true
   },
   "source": [
    "### Boxplot"
   ]
  },
  {
   "cell_type": "markdown",
   "metadata": {
    "hidden": true
   },
   "source": [
    "***O BoxPlot nos mostra a representação visual dos Quartis, mostrando os quatro principais atributos de uma variável: Centro, Variabilidade, Assimetria e Outliers.***\n",
    "\n",
    "- geralmente essa visualização é muito ruim, para melhorar isso calcular os valores e assim mostrar isso em valores absolutos\n",
    "- geralmente essa visualização é muito ruim, para melhorar isso calcular os valores e assim mostrar isso em valores absolutos\n",
    "\n",
    "np.quantile( num_attributes['credit_limit'], q=[0.25, 0.50, 0.75, 0.95]"
   ]
  },
  {
   "cell_type": "code",
   "execution_count": 162,
   "metadata": {
    "ExecuteTime": {
     "end_time": "2021-12-20T16:49:08.060241Z",
     "start_time": "2021-12-20T16:49:08.058130Z"
    },
    "hidden": true
   },
   "outputs": [],
   "source": [
    "#plt.figure(figsize=(20, 10))\n",
    "#sns.boxplot( y='balance', data=num_attributes);\n",
    "#sns.boxplot( x='balance_frequency', data=num_attributes);\n",
    "#→ se mudar o eixo para X plotamos numa melhor visualização"
   ]
  },
  {
   "cell_type": "markdown",
   "metadata": {
    "hidden": true
   },
   "source": [
    "- Como saber quais os valores acima de 75%?\n",
    "\n",
    "maximum = Q3 + 1.5 * (Q3 - Q1)\n",
    "→ o valor do **whis é opcional, podendo variar entre 1.5 e 2.5 - permitindo um \"range\" entre os outliers**\n",
    "ex.: Q3 = 6500\n",
    "       Q1 = 1600\n",
    "       Q2 = 3000\n",
    "\n",
    "Na formula acima, encontramos o resultado igual a 13850, ou seja, qualquer valor acima deste será um outlier. A linha limite do Boxplot será o quantil 95, o que seria isso?"
   ]
  },
  {
   "cell_type": "code",
   "execution_count": 163,
   "metadata": {
    "ExecuteTime": {
     "end_time": "2021-12-20T16:49:08.388770Z",
     "start_time": "2021-12-20T16:49:08.386771Z"
    },
    "hidden": true
   },
   "outputs": [],
   "source": [
    "## Regras da plotagem do boxplot: Calculo das barras do boxplot\n",
    "#\n",
    "#minimum = Q1 - 1.5 * (Q3 - Q1)\n",
    "#maximum = Q1 + 1.5 * (Q3 - Q1)\n",
    "#\n",
    "#if minimum < valor_minimo_do_conjunto_de_dados:\n",
    "#     print(num_attributes['credit_limit'].min()) \n",
    "#else:\n",
    "#     print(minimum)\n",
    "#\n",
    "#if maximum > valor_maximo_do_conjunto_de_dados:\n",
    "#     print(valor_maximo_do_conjunto_de_dados) \n",
    "#else:\n",
    "#     print(maximum)"
   ]
  },
  {
   "cell_type": "markdown",
   "metadata": {
    "hidden": true
   },
   "source": [
    "### Violinplot"
   ]
  },
  {
   "cell_type": "markdown",
   "metadata": {
    "hidden": true
   },
   "source": [
    "***Violinplot mostra os 5 principais atributos de uma variável: Centro, Variabilidade, Assimetria, Outliers e Desnidade.***"
   ]
  },
  {
   "cell_type": "code",
   "execution_count": 21,
   "metadata": {
    "ExecuteTime": {
     "end_time": "2021-12-20T21:40:14.646366Z",
     "start_time": "2021-12-20T21:40:14.174119Z"
    },
    "cell_style": "split",
    "hidden": true
   },
   "outputs": [
    {
     "data": {
      "image/png": "[encoded data removed]",
      "text/plain": [
       "<Figure size 1440x720 with 1 Axes>"
      ]
     },
     "metadata": {},
     "output_type": "display_data"
    }
   ],
   "source": [
    "#plt.figure(figsize =(20, 10))\n",
    "sns.violinplot(x='credit_limit', data=num_attributes);"
   ]
  },
  {
   "cell_type": "code",
   "execution_count": 22,
   "metadata": {
    "ExecuteTime": {
     "end_time": "2021-12-20T21:40:17.882533Z",
     "start_time": "2021-12-20T21:40:17.404186Z"
    },
    "cell_style": "split",
    "hidden": true
   },
   "outputs": [
    {
     "data": {
      "image/png": "[encoded data removed]",
      "text/plain": [
       "<Figure size 1440x720 with 1 Axes>"
      ]
     },
     "metadata": {},
     "output_type": "display_data"
    }
   ],
   "source": [
    "#plt.figure(figsize =(20, 10))\n",
    "sns.boxplot(x='credit_limit', data=num_attributes);"
   ]
  },
  {
   "cell_type": "code",
   "execution_count": 23,
   "metadata": {
    "ExecuteTime": {
     "end_time": "2021-12-20T21:40:23.809828Z",
     "start_time": "2021-12-20T21:40:23.068839Z"
    },
    "hidden": true
   },
   "outputs": [
    {
     "data": {
      "image/png": "[encoded data removed]",
      "text/plain": [
       "<Figure size 1440x720 with 1 Axes>"
      ]
     },
     "metadata": {},
     "output_type": "display_data"
    }
   ],
   "source": [
    "#sns.histplot(x='credit_limit', kde=True, data=num_attributes);\n",
    "sns.histplot(x='balance', kde=True, data=num_attributes);"
   ]
  },
  {
   "cell_type": "markdown",
   "metadata": {
    "heading_collapsed": true,
    "hidden": true
   },
   "source": [
    "## 1.6.2 Categorical attributes"
   ]
  },
  {
   "cell_type": "code",
   "execution_count": 167,
   "metadata": {
    "ExecuteTime": {
     "end_time": "2021-12-20T16:49:11.312658Z",
     "start_time": "2021-12-20T16:49:11.309456Z"
    },
    "hidden": true
   },
   "outputs": [],
   "source": [
    "# Nesse conjunto de dados não temos valoresw categoricos"
   ]
  },
  {
   "cell_type": "code",
   "execution_count": null,
   "metadata": {
    "hidden": true
   },
   "outputs": [],
   "source": []
  },
  {
   "cell_type": "markdown",
   "metadata": {
    "hidden": true
   },
   "source": [
    "## 1.7. Descriptive Statistics"
   ]
  },
  {
   "cell_type": "markdown",
   "metadata": {
    "hidden": true
   },
   "source": [
    "Cycle 2"
   ]
  },
  {
   "cell_type": "markdown",
   "metadata": {
    "heading_collapsed": true
   },
   "source": [
    "# 2.0 Data Filtering"
   ]
  },
  {
   "cell_type": "code",
   "execution_count": 24,
   "metadata": {
    "ExecuteTime": {
     "end_time": "2021-12-20T21:40:54.175196Z",
     "start_time": "2021-12-20T21:40:54.169005Z"
    },
    "hidden": true
   },
   "outputs": [],
   "source": [
    "df2 = df1.copy()"
   ]
  },
  {
   "cell_type": "markdown",
   "metadata": {},
   "source": [
    "# 3.0 Feature Engineering"
   ]
  },
  {
   "cell_type": "code",
   "execution_count": 25,
   "metadata": {
    "ExecuteTime": {
     "end_time": "2021-12-20T21:40:55.020597Z",
     "start_time": "2021-12-20T21:40:55.013998Z"
    }
   },
   "outputs": [],
   "source": [
    "# Features |Candidatas para eliminação\n",
    "\n",
    "# → cash_advance_frequency : Incerteza do calculo utilizado para chegar nesse frequencia (qualo periodo)\n",
    "# → purchases_instalments_frequency: Nunhma dessas requencias tem explicito o periodo\n",
    "# → tenure: Não traz informações úteis\n",
    "\n",
    "# Obs.: Variaveis do tipo 'media' não é muito interessante para o time de negocio"
   ]
  },
  {
   "cell_type": "code",
   "execution_count": 64,
   "metadata": {
    "ExecuteTime": {
     "end_time": "2021-12-20T22:19:25.414204Z",
     "start_time": "2021-12-20T22:19:25.408036Z"
    }
   },
   "outputs": [],
   "source": [
    "df3 = df2.copy()"
   ]
  },
  {
   "cell_type": "code",
   "execution_count": 65,
   "metadata": {
    "ExecuteTime": {
     "end_time": "2021-12-20T22:19:25.932682Z",
     "start_time": "2021-12-20T22:19:25.906417Z"
    }
   },
   "outputs": [],
   "source": [
    "# \n",
    "\n",
    "# Se houve compra com pagamento avista ou não\n",
    "df3['one_payment'] = df3['oneoff_purchases'].apply(lambda x: 0 if x == 0.00 else 1)\n",
    "\n",
    "# Gasto médio por transação de compra\n",
    "df3['avg_ticket_purchases'] = df3['purchases'] / df3['purchases_trx']\n",
    "\n",
    "# Valor total gasto (saque + cartão) / Quantidade total de transações\n",
    "df3['avg_ticket_expenses'] = (df3['purchases'] + df3['cash_advance']) / (df3['purchases_trx'] + df3['cash_advance_trx'])\n",
    "\n",
    "# Soma das despesas / soma dos pagamentos\n",
    "df3['debt_rate'] = (df3['purchases'] + df3['cash_advance']) / (df3['payments'] + df3['minimum_payments'])\n",
    "\n",
    "# Percentual do uso do limite do cartão\n",
    "df3['credit_limit_rate'] = (df3['purchases'] + df3['cash_advance']) / (6 * df3['credit_limit'])\n",
    "\n",
    "\n",
    "df3 = df3.fillna( 0 ) # substituindo os NA's por 0\n",
    "## Classificar o debt_rate\n",
    "#\n",
    "## Classificar o credit_limit_rate\n",
    "#\n",
    "## Pessoas → Cartão → Compra\n",
    "## quantidade de uso (quantas vezes a pessoa usou o cartão)\n",
    "##                   (quanto do limite disponivel ela usou)\n",
    "##                   (qual o volume de uso (dinheiro))\n",
    "##                   ()\n",
    "#\n",
    "#\n"
   ]
  },
  {
   "cell_type": "code",
   "execution_count": 66,
   "metadata": {
    "ExecuteTime": {
     "end_time": "2021-12-20T22:19:26.558036Z",
     "start_time": "2021-12-20T22:19:26.528363Z"
    }
   },
   "outputs": [
    {
     "data": {
      "text/html": [
       "<div>\n",
       "<style scoped>\n",
       "    .dataframe tbody tr th:only-of-type {\n",
       "        vertical-align: middle;\n",
       "    }\n",
       "\n",
       "    .dataframe tbody tr th {\n",
       "        vertical-align: top;\n",
       "    }\n",
       "\n",
       "    .dataframe thead th {\n",
       "        text-align: right;\n",
       "    }\n",
       "</style>\n",
       "<table border=\"1\" class=\"dataframe\">\n",
       "  <thead>\n",
       "    <tr style=\"text-align: right;\">\n",
       "      <th></th>\n",
       "      <th>cust_id</th>\n",
       "      <th>balance</th>\n",
       "      <th>balance_frequency</th>\n",
       "      <th>purchases</th>\n",
       "      <th>oneoff_purchases</th>\n",
       "      <th>installments_purchases</th>\n",
       "      <th>cash_advance</th>\n",
       "      <th>purchases_frequency</th>\n",
       "      <th>oneoff_purchases_frequency</th>\n",
       "      <th>purchases_installments_frequency</th>\n",
       "      <th>cash_advance_frequency</th>\n",
       "      <th>cash_advance_trx</th>\n",
       "      <th>purchases_trx</th>\n",
       "      <th>credit_limit</th>\n",
       "      <th>payments</th>\n",
       "      <th>minimum_payments</th>\n",
       "      <th>prc_full_payment</th>\n",
       "      <th>tenure</th>\n",
       "      <th>one_payment</th>\n",
       "      <th>avg_ticket_purchases</th>\n",
       "      <th>avg_ticket_expenses</th>\n",
       "      <th>debt_rate</th>\n",
       "      <th>credit_limit_rate</th>\n",
       "    </tr>\n",
       "  </thead>\n",
       "  <tbody>\n",
       "    <tr>\n",
       "      <th>0</th>\n",
       "      <td>C10001</td>\n",
       "      <td>40.900749</td>\n",
       "      <td>0.818182</td>\n",
       "      <td>95.40</td>\n",
       "      <td>0.00</td>\n",
       "      <td>95.40</td>\n",
       "      <td>0.000000</td>\n",
       "      <td>0.166667</td>\n",
       "      <td>0.000000</td>\n",
       "      <td>0.083333</td>\n",
       "      <td>0.00</td>\n",
       "      <td>0</td>\n",
       "      <td>2</td>\n",
       "      <td>1000.0</td>\n",
       "      <td>201.802084</td>\n",
       "      <td>139.509787</td>\n",
       "      <td>0.000000</td>\n",
       "      <td>12</td>\n",
       "      <td>0</td>\n",
       "      <td>47.700000</td>\n",
       "      <td>47.700000</td>\n",
       "      <td>0.279510</td>\n",
       "      <td>0.015900</td>\n",
       "    </tr>\n",
       "    <tr>\n",
       "      <th>1</th>\n",
       "      <td>C10002</td>\n",
       "      <td>3202.467416</td>\n",
       "      <td>0.909091</td>\n",
       "      <td>0.00</td>\n",
       "      <td>0.00</td>\n",
       "      <td>0.00</td>\n",
       "      <td>6442.945483</td>\n",
       "      <td>0.000000</td>\n",
       "      <td>0.000000</td>\n",
       "      <td>0.000000</td>\n",
       "      <td>0.25</td>\n",
       "      <td>4</td>\n",
       "      <td>0</td>\n",
       "      <td>7000.0</td>\n",
       "      <td>4103.032597</td>\n",
       "      <td>1072.340217</td>\n",
       "      <td>0.222222</td>\n",
       "      <td>12</td>\n",
       "      <td>0</td>\n",
       "      <td>0.000000</td>\n",
       "      <td>1610.736371</td>\n",
       "      <td>1.244924</td>\n",
       "      <td>0.153403</td>\n",
       "    </tr>\n",
       "    <tr>\n",
       "      <th>2</th>\n",
       "      <td>C10003</td>\n",
       "      <td>2495.148862</td>\n",
       "      <td>1.000000</td>\n",
       "      <td>773.17</td>\n",
       "      <td>773.17</td>\n",
       "      <td>0.00</td>\n",
       "      <td>0.000000</td>\n",
       "      <td>1.000000</td>\n",
       "      <td>1.000000</td>\n",
       "      <td>0.000000</td>\n",
       "      <td>0.00</td>\n",
       "      <td>0</td>\n",
       "      <td>12</td>\n",
       "      <td>7500.0</td>\n",
       "      <td>622.066742</td>\n",
       "      <td>627.284787</td>\n",
       "      <td>0.000000</td>\n",
       "      <td>12</td>\n",
       "      <td>1</td>\n",
       "      <td>64.430833</td>\n",
       "      <td>64.430833</td>\n",
       "      <td>0.618857</td>\n",
       "      <td>0.017182</td>\n",
       "    </tr>\n",
       "    <tr>\n",
       "      <th>4</th>\n",
       "      <td>C10005</td>\n",
       "      <td>817.714335</td>\n",
       "      <td>1.000000</td>\n",
       "      <td>16.00</td>\n",
       "      <td>16.00</td>\n",
       "      <td>0.00</td>\n",
       "      <td>0.000000</td>\n",
       "      <td>0.083333</td>\n",
       "      <td>0.083333</td>\n",
       "      <td>0.000000</td>\n",
       "      <td>0.00</td>\n",
       "      <td>0</td>\n",
       "      <td>1</td>\n",
       "      <td>1200.0</td>\n",
       "      <td>678.334763</td>\n",
       "      <td>244.791237</td>\n",
       "      <td>0.000000</td>\n",
       "      <td>12</td>\n",
       "      <td>1</td>\n",
       "      <td>16.000000</td>\n",
       "      <td>16.000000</td>\n",
       "      <td>0.017332</td>\n",
       "      <td>0.002222</td>\n",
       "    </tr>\n",
       "    <tr>\n",
       "      <th>5</th>\n",
       "      <td>C10006</td>\n",
       "      <td>1809.828751</td>\n",
       "      <td>1.000000</td>\n",
       "      <td>1333.28</td>\n",
       "      <td>0.00</td>\n",
       "      <td>1333.28</td>\n",
       "      <td>0.000000</td>\n",
       "      <td>0.666667</td>\n",
       "      <td>0.000000</td>\n",
       "      <td>0.583333</td>\n",
       "      <td>0.00</td>\n",
       "      <td>0</td>\n",
       "      <td>8</td>\n",
       "      <td>1800.0</td>\n",
       "      <td>1400.057770</td>\n",
       "      <td>2407.246035</td>\n",
       "      <td>0.000000</td>\n",
       "      <td>12</td>\n",
       "      <td>0</td>\n",
       "      <td>166.660000</td>\n",
       "      <td>166.660000</td>\n",
       "      <td>0.350190</td>\n",
       "      <td>0.123452</td>\n",
       "    </tr>\n",
       "  </tbody>\n",
       "</table>\n",
       "</div>"
      ],
      "text/plain": [
       "  cust_id      balance  balance_frequency  purchases  oneoff_purchases  installments_purchases  cash_advance  purchases_frequency  oneoff_purchases_frequency  purchases_installments_frequency  cash_advance_frequency  cash_advance_trx  purchases_trx  credit_limit     payments  minimum_payments  prc_full_payment  tenure  one_payment  avg_ticket_purchases  avg_ticket_expenses  debt_rate  credit_limit_rate\n",
       "0  C10001    40.900749           0.818182      95.40              0.00                   95.40      0.000000             0.166667                    0.000000                          0.083333                    0.00                 0              2        1000.0   201.802084        139.509787          0.000000      12            0             47.700000            47.700000   0.279510           0.015900\n",
       "1  C10002  3202.467416           0.909091       0.00              0.00                    0.00   6442.945483             0.000000                    0.000000                          0.000000                    0.25                 4              0        7000.0  4103.032597       1072.340217          0.222222      12            0              0.000000          1610.736371   1.244924           0.153403\n",
       "2  C10003  2495.148862           1.000000     773.17            773.17                    0.00      0.000000             1.000000                    1.000000                          0.000000                    0.00                 0             12        7500.0   622.066742        627.284787          0.000000      12            1             64.430833            64.430833   0.618857           0.017182\n",
       "4  C10005   817.714335           1.000000      16.00             16.00                    0.00      0.000000             0.083333                    0.083333                          0.000000                    0.00                 0              1        1200.0   678.334763        244.791237          0.000000      12            1             16.000000            16.000000   0.017332           0.002222\n",
       "5  C10006  1809.828751           1.000000    1333.28              0.00                 1333.28      0.000000             0.666667                    0.000000                          0.583333                    0.00                 0              8        1800.0  1400.057770       2407.246035          0.000000      12            0            166.660000           166.660000   0.350190           0.123452"
      ]
     },
     "execution_count": 66,
     "metadata": {},
     "output_type": "execute_result"
    }
   ],
   "source": [
    "df3.head() # o conjunto de dados é uma query relativa ao comportamento das compras dos clientes com o cartão de creditos\n",
    "# Neste conjunto temos uma certa dificuldade de criar fetures pelo fato de\n",
    "# ja termos uma conjunto com query elaboradas anteriromente\n",
    "# Podemos então combinar essas features para analisar seu \n",
    "# copmportamento em relação ao conjunto de dados"
   ]
  },
  {
   "cell_type": "code",
   "execution_count": null,
   "metadata": {},
   "outputs": [],
   "source": []
  },
  {
   "cell_type": "code",
   "execution_count": null,
   "metadata": {},
   "outputs": [],
   "source": [
    " "
   ]
  },
  {
   "cell_type": "code",
   "execution_count": null,
   "metadata": {},
   "outputs": [],
   "source": []
  },
  {
   "cell_type": "code",
   "execution_count": null,
   "metadata": {},
   "outputs": [],
   "source": []
  },
  {
   "cell_type": "code",
   "execution_count": 28,
   "metadata": {
    "ExecuteTime": {
     "end_time": "2021-12-20T21:41:07.565257Z",
     "start_time": "2021-12-20T21:41:07.557236Z"
    }
   },
   "outputs": [
    {
     "data": {
      "text/plain": [
       "8636"
      ]
     },
     "execution_count": 28,
     "metadata": {},
     "output_type": "execute_result"
    }
   ],
   "source": [
    "len( df3['cust_id'].unique() )"
   ]
  },
  {
   "cell_type": "markdown",
   "metadata": {
    "heading_collapsed": true
   },
   "source": [
    "### Analise de Fato - Dimensão (construindo features)"
   ]
  },
  {
   "cell_type": "markdown",
   "metadata": {
    "hidden": true
   },
   "source": [
    "Fato-Dimensao by Ralph Kimbal\n",
    "Snowplow by\n",
    "Snowflake → banco de dados\n",
    "\n",
    "Compra = Fato ( Soma, Contar, Maior, Menor, Media, Mediana )\n",
    "Cliente entrou na base = Fato\n",
    "Devolução = Fato\n",
    "→ Comportamento do Cliente/usuario\n",
    "\n",
    "\n",
    "Dimensao\n",
    "\n",
    "Tempo( Ano, mes, dia, hora, minuto )\n",
    "Espaco( localização, região, lat, long, bairro, rua )\n",
    "Produto( Nome, Tipo, Categoria, Preço, Condição de compra )\n",
    "Marketing( Organica(quando o cliente chega na empresa por conta de auto-pesquisa), Paid ( Facebook, Google, Criteo ))\n",
    "\n",
    "Feature Store = \n",
    "Custos de Marketing, Quantidade de Cliente, CAC, Numeros de campanhas, user_id, campaing_id, product_id\n",
    "\n",
    "vendas, descontos, sales_last_30_days, sales_last_15_days → Features e métrica criadas (engineering feature)\n",
    "\n",
    "CAC = Custo de Aquisição por Cliente\n",
    "\n",
    "\n",
    "=====================\n",
    "Feature Store\n",
    "=====================\n",
    "train.yml → query\n",
    "{'features_store': ['age', 'last_purchaes']}\n",
    "O arquivo yml é uma query gigante onde recebemos toda a \"Feature Store\" (query das features criadas)\n",
    "yml → dicionario craido com as features e o modelo de ml escolhido e todo o processo de tratamento dos dados\n",
    " "
   ]
  },
  {
   "cell_type": "markdown",
   "metadata": {
    "cell_style": "center"
   },
   "source": [
    "# 4.0 EDA (Space Study)"
   ]
  },
  {
   "cell_type": "code",
   "execution_count": 67,
   "metadata": {
    "ExecuteTime": {
     "end_time": "2021-12-20T22:19:35.636269Z",
     "start_time": "2021-12-20T22:19:35.631593Z"
    }
   },
   "outputs": [],
   "source": [
    "df4 = df3.copy()"
   ]
  },
  {
   "cell_type": "markdown",
   "metadata": {},
   "source": [
    "# 5.0 Data Preparation"
   ]
  },
  {
   "cell_type": "code",
   "execution_count": 68,
   "metadata": {
    "ExecuteTime": {
     "end_time": "2021-12-20T22:19:40.261072Z",
     "start_time": "2021-12-20T22:19:40.253377Z"
    }
   },
   "outputs": [],
   "source": [
    "df5 = df4.copy()"
   ]
  },
  {
   "cell_type": "code",
   "execution_count": null,
   "metadata": {},
   "outputs": [],
   "source": [
    "FINALIZAMOS A AUL 59 ANALISANDO AS NOVAS FEATURES CRIADAS E VERIFICANDO SE EXITE ANECESIDADE DE REESCALA"
   ]
  },
  {
   "cell_type": "code",
   "execution_count": 72,
   "metadata": {
    "ExecuteTime": {
     "end_time": "2021-12-20T22:20:40.173238Z",
     "start_time": "2021-12-20T22:20:40.132670Z"
    }
   },
   "outputs": [
    {
     "data": {
      "text/plain": [
       "cust_id                              C19190\n",
       "balance                                   1\n",
       "balance_frequency                         1\n",
       "purchases                                 1\n",
       "oneoff_purchases                          1\n",
       "installments_purchases                    1\n",
       "cash_advance                              1\n",
       "purchases_frequency                       1\n",
       "oneoff_purchases_frequency                1\n",
       "purchases_installments_frequency          1\n",
       "cash_advance_frequency                  1.5\n",
       "cash_advance_trx                          1\n",
       "purchases_trx                             1\n",
       "credit_limit                              1\n",
       "payments                                  1\n",
       "minimum_payments                          1\n",
       "prc_full_payment                          1\n",
       "tenure                                    1\n",
       "one_payment                               1\n",
       "avg_ticket_purchases                    inf\n",
       "avg_ticket_expenses                     inf\n",
       "debt_rate                           95.2426\n",
       "credit_limit_rate                   18.9226\n",
       "dtype: object"
      ]
     },
     "execution_count": 72,
     "metadata": {},
     "output_type": "execute_result"
    }
   ],
   "source": [
    "df5.apply(np.max) # → verificando a necessidade de resscala"
   ]
  },
  {
   "cell_type": "code",
   "execution_count": 74,
   "metadata": {
    "ExecuteTime": {
     "end_time": "2021-12-20T22:23:29.867592Z",
     "start_time": "2021-12-20T22:23:29.795768Z"
    }
   },
   "outputs": [],
   "source": [
    "# Variavel Normal + Sem outlier → Standart Scaler ( x - mean / std )\n",
    "# Variavel Normal + com outlier → Robust Scaler ( x - Q1 / (Q3 - Q1) )\n",
    "# Variavel Não Normal           → Min-Max Scaler ( x - mim / (max - min) )\n",
    "# → o min-max scaler traz os valores para um range entre 0 e 1\n",
    "\n",
    "# uso do mim-max scaler\n",
    "mm = pp.MinMaxScaler()\n",
    "\n",
    "df5['balance'] = mm.fit_transform(df5[['balance']]) \n",
    "df5['purchases'] = mm.fit_transform(df5[['purchases']]) \n",
    "df5['oneoff_purchases'] = mm.fit_transform(df5[['oneoff_purchases']])\n",
    "df5['installments_purchases'] = mm.fit_transform(df5[['installments_purchases']]) \n",
    "df5['cash_advance'] = mm.fit_transform(df5[['cash_advance']]) \n",
    "df5['cash_advance_trx'] = mm.fit_transform(df5[['cash_advance_trx']]) \n",
    "df5['purchases_trx'] = mm.fit_transform(df5[['purchases_trx']]) \n",
    "df5['credit_limit'] = mm.fit_transform(df5[['credit_limit']]) \n",
    "df5['payments'] = mm.fit_transform(df5[['payments']]) \n",
    "df5['minimum_payments'] = mm.fit_transform(df5[['minimum_payments']]) \n",
    "df5['tenure'] = mm.fit_transform(df5[['tenure']]) \n",
    "\n"
   ]
  },
  {
   "cell_type": "code",
   "execution_count": null,
   "metadata": {},
   "outputs": [],
   "source": [
    "avg_ticket_purchases                    inf\n",
    "avg_ticket_expenses                     inf\n",
    "debt_rate                           95.2426\n",
    "credit_limit_rate "
   ]
  },
  {
   "cell_type": "code",
   "execution_count": 50,
   "metadata": {
    "ExecuteTime": {
     "end_time": "2021-12-20T22:12:04.423871Z",
     "start_time": "2021-12-20T22:12:04.420932Z"
    }
   },
   "outputs": [],
   "source": [
    "# sns.displot(df5['balance'], height=10);# Aqui mosta que a distribuição não é normal\n",
    "# Vamos usar o min-max scaler"
   ]
  },
  {
   "cell_type": "code",
   "execution_count": 53,
   "metadata": {
    "ExecuteTime": {
     "end_time": "2021-12-20T22:13:30.552204Z",
     "start_time": "2021-12-20T22:13:30.522017Z"
    }
   },
   "outputs": [
    {
     "data": {
      "text/plain": [
       "cust_id                             C19190\n",
       "balance                                  1\n",
       "balance_frequency                        1\n",
       "purchases                                1\n",
       "oneoff_purchases                         1\n",
       "installments_purchases                   1\n",
       "cash_advance                             1\n",
       "purchases_frequency                      1\n",
       "oneoff_purchases_frequency               1\n",
       "purchases_installments_frequency         1\n",
       "cash_advance_frequency                 1.5\n",
       "cash_advance_trx                         1\n",
       "purchases_trx                            1\n",
       "credit_limit                             1\n",
       "payments                                 1\n",
       "minimum_payments                         1\n",
       "prc_full_payment                         1\n",
       "tenure                                   1\n",
       "dtype: object"
      ]
     },
     "execution_count": 53,
     "metadata": {},
     "output_type": "execute_result"
    }
   ],
   "source": [
    "# Teste do min-max scaler\n",
    "# df5.apply(np.min) → para saber se funcionou, todos os valores devem ser = 0\n",
    "# df5.apply(np.max) → para saber se funcionou, todos os valores devem ser = 1"
   ]
  },
  {
   "cell_type": "code",
   "execution_count": null,
   "metadata": {},
   "outputs": [],
   "source": []
  },
  {
   "cell_type": "code",
   "execution_count": 51,
   "metadata": {
    "ExecuteTime": {
     "end_time": "2021-12-20T22:12:53.851015Z",
     "start_time": "2021-12-20T22:12:53.829443Z"
    }
   },
   "outputs": [
    {
     "data": {
      "text/html": [
       "<div>\n",
       "<style scoped>\n",
       "    .dataframe tbody tr th:only-of-type {\n",
       "        vertical-align: middle;\n",
       "    }\n",
       "\n",
       "    .dataframe tbody tr th {\n",
       "        vertical-align: top;\n",
       "    }\n",
       "\n",
       "    .dataframe thead th {\n",
       "        text-align: right;\n",
       "    }\n",
       "</style>\n",
       "<table border=\"1\" class=\"dataframe\">\n",
       "  <thead>\n",
       "    <tr style=\"text-align: right;\">\n",
       "      <th></th>\n",
       "      <th>cust_id</th>\n",
       "      <th>balance</th>\n",
       "      <th>balance_frequency</th>\n",
       "      <th>purchases</th>\n",
       "      <th>oneoff_purchases</th>\n",
       "      <th>installments_purchases</th>\n",
       "      <th>cash_advance</th>\n",
       "      <th>purchases_frequency</th>\n",
       "      <th>oneoff_purchases_frequency</th>\n",
       "      <th>purchases_installments_frequency</th>\n",
       "      <th>cash_advance_frequency</th>\n",
       "      <th>cash_advance_trx</th>\n",
       "      <th>purchases_trx</th>\n",
       "      <th>credit_limit</th>\n",
       "      <th>payments</th>\n",
       "      <th>minimum_payments</th>\n",
       "      <th>prc_full_payment</th>\n",
       "      <th>tenure</th>\n",
       "    </tr>\n",
       "  </thead>\n",
       "  <tbody>\n",
       "    <tr>\n",
       "      <th>0</th>\n",
       "      <td>C10001</td>\n",
       "      <td>0.002148</td>\n",
       "      <td>0.818182</td>\n",
       "      <td>0.001945</td>\n",
       "      <td>0.000000</td>\n",
       "      <td>0.00424</td>\n",
       "      <td>0.000000</td>\n",
       "      <td>0.166667</td>\n",
       "      <td>0.0</td>\n",
       "      <td>0.083333</td>\n",
       "      <td>0.00</td>\n",
       "      <td>0.00000</td>\n",
       "      <td>0.005587</td>\n",
       "      <td>0.031720</td>\n",
       "      <td>0.003978</td>\n",
       "      <td>0.001826</td>\n",
       "      <td>0.000000</td>\n",
       "      <td>1.0</td>\n",
       "    </tr>\n",
       "    <tr>\n",
       "      <th>1</th>\n",
       "      <td>C10002</td>\n",
       "      <td>0.168169</td>\n",
       "      <td>0.909091</td>\n",
       "      <td>0.000000</td>\n",
       "      <td>0.000000</td>\n",
       "      <td>0.00000</td>\n",
       "      <td>0.136685</td>\n",
       "      <td>0.000000</td>\n",
       "      <td>0.0</td>\n",
       "      <td>0.000000</td>\n",
       "      <td>0.25</td>\n",
       "      <td>0.03252</td>\n",
       "      <td>0.000000</td>\n",
       "      <td>0.232053</td>\n",
       "      <td>0.080892</td>\n",
       "      <td>0.014034</td>\n",
       "      <td>0.222222</td>\n",
       "      <td>1.0</td>\n",
       "    </tr>\n",
       "    <tr>\n",
       "      <th>2</th>\n",
       "      <td>C10003</td>\n",
       "      <td>0.131026</td>\n",
       "      <td>1.000000</td>\n",
       "      <td>0.015766</td>\n",
       "      <td>0.018968</td>\n",
       "      <td>0.00000</td>\n",
       "      <td>0.000000</td>\n",
       "      <td>1.000000</td>\n",
       "      <td>1.0</td>\n",
       "      <td>0.000000</td>\n",
       "      <td>0.00</td>\n",
       "      <td>0.00000</td>\n",
       "      <td>0.033520</td>\n",
       "      <td>0.248748</td>\n",
       "      <td>0.012263</td>\n",
       "      <td>0.008210</td>\n",
       "      <td>0.000000</td>\n",
       "      <td>1.0</td>\n",
       "    </tr>\n",
       "  </tbody>\n",
       "</table>\n",
       "</div>"
      ],
      "text/plain": [
       "  cust_id   balance  balance_frequency  purchases  oneoff_purchases  installments_purchases  cash_advance  purchases_frequency  oneoff_purchases_frequency  purchases_installments_frequency  cash_advance_frequency  cash_advance_trx  purchases_trx  credit_limit  payments  minimum_payments  prc_full_payment  tenure\n",
       "0  C10001  0.002148           0.818182   0.001945          0.000000                 0.00424      0.000000             0.166667                         0.0                          0.083333                    0.00           0.00000       0.005587      0.031720  0.003978          0.001826          0.000000     1.0\n",
       "1  C10002  0.168169           0.909091   0.000000          0.000000                 0.00000      0.136685             0.000000                         0.0                          0.000000                    0.25           0.03252       0.000000      0.232053  0.080892          0.014034          0.222222     1.0\n",
       "2  C10003  0.131026           1.000000   0.015766          0.018968                 0.00000      0.000000             1.000000                         1.0                          0.000000                    0.00           0.00000       0.033520      0.248748  0.012263          0.008210          0.000000     1.0"
      ]
     },
     "execution_count": 51,
     "metadata": {},
     "output_type": "execute_result"
    }
   ],
   "source": [
    "df5.head(3)"
   ]
  },
  {
   "cell_type": "markdown",
   "metadata": {},
   "source": [
    "# 6.0 Feature Selection"
   ]
  },
  {
   "cell_type": "code",
   "execution_count": 75,
   "metadata": {
    "ExecuteTime": {
     "end_time": "2021-12-20T22:23:37.005822Z",
     "start_time": "2021-12-20T22:23:36.995684Z"
    }
   },
   "outputs": [],
   "source": [
    "# dropando a coluna \"cust_id\" → Neste momento ela não é importante para a análise\n",
    "cols_drop = ['cust_id'] \n",
    "X = df5.drop( cols_drop, axis=1 ) # usado apenas no ciclo 01 para obtençao da métrica\n",
    "# X = df1.drop( columns=cols_drop ) método alternativo"
   ]
  },
  {
   "cell_type": "code",
   "execution_count": 76,
   "metadata": {
    "ExecuteTime": {
     "end_time": "2021-12-20T22:23:37.706201Z",
     "start_time": "2021-12-20T22:23:37.679138Z"
    }
   },
   "outputs": [
    {
     "data": {
      "text/html": [
       "<div>\n",
       "<style scoped>\n",
       "    .dataframe tbody tr th:only-of-type {\n",
       "        vertical-align: middle;\n",
       "    }\n",
       "\n",
       "    .dataframe tbody tr th {\n",
       "        vertical-align: top;\n",
       "    }\n",
       "\n",
       "    .dataframe thead th {\n",
       "        text-align: right;\n",
       "    }\n",
       "</style>\n",
       "<table border=\"1\" class=\"dataframe\">\n",
       "  <thead>\n",
       "    <tr style=\"text-align: right;\">\n",
       "      <th></th>\n",
       "      <th>balance</th>\n",
       "      <th>balance_frequency</th>\n",
       "      <th>purchases</th>\n",
       "      <th>oneoff_purchases</th>\n",
       "      <th>installments_purchases</th>\n",
       "      <th>cash_advance</th>\n",
       "      <th>purchases_frequency</th>\n",
       "      <th>oneoff_purchases_frequency</th>\n",
       "      <th>purchases_installments_frequency</th>\n",
       "      <th>cash_advance_frequency</th>\n",
       "      <th>cash_advance_trx</th>\n",
       "      <th>purchases_trx</th>\n",
       "      <th>credit_limit</th>\n",
       "      <th>payments</th>\n",
       "      <th>minimum_payments</th>\n",
       "      <th>prc_full_payment</th>\n",
       "      <th>tenure</th>\n",
       "      <th>one_payment</th>\n",
       "      <th>avg_ticket_purchases</th>\n",
       "      <th>avg_ticket_expenses</th>\n",
       "      <th>debt_rate</th>\n",
       "      <th>credit_limit_rate</th>\n",
       "    </tr>\n",
       "  </thead>\n",
       "  <tbody>\n",
       "    <tr>\n",
       "      <th>0</th>\n",
       "      <td>0.002148</td>\n",
       "      <td>0.818182</td>\n",
       "      <td>0.001945</td>\n",
       "      <td>0.000000</td>\n",
       "      <td>0.004240</td>\n",
       "      <td>0.000000</td>\n",
       "      <td>0.166667</td>\n",
       "      <td>0.000000</td>\n",
       "      <td>0.083333</td>\n",
       "      <td>0.00</td>\n",
       "      <td>0.00000</td>\n",
       "      <td>0.005587</td>\n",
       "      <td>0.031720</td>\n",
       "      <td>0.003978</td>\n",
       "      <td>0.001826</td>\n",
       "      <td>0.000000</td>\n",
       "      <td>1.0</td>\n",
       "      <td>0</td>\n",
       "      <td>47.700000</td>\n",
       "      <td>47.700000</td>\n",
       "      <td>0.279510</td>\n",
       "      <td>0.015900</td>\n",
       "    </tr>\n",
       "    <tr>\n",
       "      <th>1</th>\n",
       "      <td>0.168169</td>\n",
       "      <td>0.909091</td>\n",
       "      <td>0.000000</td>\n",
       "      <td>0.000000</td>\n",
       "      <td>0.000000</td>\n",
       "      <td>0.136685</td>\n",
       "      <td>0.000000</td>\n",
       "      <td>0.000000</td>\n",
       "      <td>0.000000</td>\n",
       "      <td>0.25</td>\n",
       "      <td>0.03252</td>\n",
       "      <td>0.000000</td>\n",
       "      <td>0.232053</td>\n",
       "      <td>0.080892</td>\n",
       "      <td>0.014034</td>\n",
       "      <td>0.222222</td>\n",
       "      <td>1.0</td>\n",
       "      <td>0</td>\n",
       "      <td>0.000000</td>\n",
       "      <td>1610.736371</td>\n",
       "      <td>1.244924</td>\n",
       "      <td>0.153403</td>\n",
       "    </tr>\n",
       "    <tr>\n",
       "      <th>2</th>\n",
       "      <td>0.131026</td>\n",
       "      <td>1.000000</td>\n",
       "      <td>0.015766</td>\n",
       "      <td>0.018968</td>\n",
       "      <td>0.000000</td>\n",
       "      <td>0.000000</td>\n",
       "      <td>1.000000</td>\n",
       "      <td>1.000000</td>\n",
       "      <td>0.000000</td>\n",
       "      <td>0.00</td>\n",
       "      <td>0.00000</td>\n",
       "      <td>0.033520</td>\n",
       "      <td>0.248748</td>\n",
       "      <td>0.012263</td>\n",
       "      <td>0.008210</td>\n",
       "      <td>0.000000</td>\n",
       "      <td>1.0</td>\n",
       "      <td>1</td>\n",
       "      <td>64.430833</td>\n",
       "      <td>64.430833</td>\n",
       "      <td>0.618857</td>\n",
       "      <td>0.017182</td>\n",
       "    </tr>\n",
       "    <tr>\n",
       "      <th>4</th>\n",
       "      <td>0.042940</td>\n",
       "      <td>1.000000</td>\n",
       "      <td>0.000326</td>\n",
       "      <td>0.000393</td>\n",
       "      <td>0.000000</td>\n",
       "      <td>0.000000</td>\n",
       "      <td>0.083333</td>\n",
       "      <td>0.083333</td>\n",
       "      <td>0.000000</td>\n",
       "      <td>0.00</td>\n",
       "      <td>0.00000</td>\n",
       "      <td>0.002793</td>\n",
       "      <td>0.038397</td>\n",
       "      <td>0.013373</td>\n",
       "      <td>0.003204</td>\n",
       "      <td>0.000000</td>\n",
       "      <td>1.0</td>\n",
       "      <td>1</td>\n",
       "      <td>16.000000</td>\n",
       "      <td>16.000000</td>\n",
       "      <td>0.017332</td>\n",
       "      <td>0.002222</td>\n",
       "    </tr>\n",
       "    <tr>\n",
       "      <th>5</th>\n",
       "      <td>0.095038</td>\n",
       "      <td>1.000000</td>\n",
       "      <td>0.027188</td>\n",
       "      <td>0.000000</td>\n",
       "      <td>0.059257</td>\n",
       "      <td>0.000000</td>\n",
       "      <td>0.666667</td>\n",
       "      <td>0.000000</td>\n",
       "      <td>0.583333</td>\n",
       "      <td>0.00</td>\n",
       "      <td>0.00000</td>\n",
       "      <td>0.022346</td>\n",
       "      <td>0.058431</td>\n",
       "      <td>0.027602</td>\n",
       "      <td>0.031506</td>\n",
       "      <td>0.000000</td>\n",
       "      <td>1.0</td>\n",
       "      <td>0</td>\n",
       "      <td>166.660000</td>\n",
       "      <td>166.660000</td>\n",
       "      <td>0.350190</td>\n",
       "      <td>0.123452</td>\n",
       "    </tr>\n",
       "  </tbody>\n",
       "</table>\n",
       "</div>"
      ],
      "text/plain": [
       "    balance  balance_frequency  purchases  oneoff_purchases  installments_purchases  cash_advance  purchases_frequency  oneoff_purchases_frequency  purchases_installments_frequency  cash_advance_frequency  cash_advance_trx  purchases_trx  credit_limit  payments  minimum_payments  prc_full_payment  tenure  one_payment  avg_ticket_purchases  avg_ticket_expenses  debt_rate  credit_limit_rate\n",
       "0  0.002148           0.818182   0.001945          0.000000                0.004240      0.000000             0.166667                    0.000000                          0.083333                    0.00           0.00000       0.005587      0.031720  0.003978          0.001826          0.000000     1.0            0             47.700000            47.700000   0.279510           0.015900\n",
       "1  0.168169           0.909091   0.000000          0.000000                0.000000      0.136685             0.000000                    0.000000                          0.000000                    0.25           0.03252       0.000000      0.232053  0.080892          0.014034          0.222222     1.0            0              0.000000          1610.736371   1.244924           0.153403\n",
       "2  0.131026           1.000000   0.015766          0.018968                0.000000      0.000000             1.000000                    1.000000                          0.000000                    0.00           0.00000       0.033520      0.248748  0.012263          0.008210          0.000000     1.0            1             64.430833            64.430833   0.618857           0.017182\n",
       "4  0.042940           1.000000   0.000326          0.000393                0.000000      0.000000             0.083333                    0.083333                          0.000000                    0.00           0.00000       0.002793      0.038397  0.013373          0.003204          0.000000     1.0            1             16.000000            16.000000   0.017332           0.002222\n",
       "5  0.095038           1.000000   0.027188          0.000000                0.059257      0.000000             0.666667                    0.000000                          0.583333                    0.00           0.00000       0.022346      0.058431  0.027602          0.031506          0.000000     1.0            0            166.660000           166.660000   0.350190           0.123452"
      ]
     },
     "execution_count": 76,
     "metadata": {},
     "output_type": "execute_result"
    }
   ],
   "source": [
    "X.head()"
   ]
  },
  {
   "cell_type": "code",
   "execution_count": 36,
   "metadata": {
    "ExecuteTime": {
     "end_time": "2021-12-20T21:58:18.384094Z",
     "start_time": "2021-12-20T21:58:18.381112Z"
    }
   },
   "outputs": [],
   "source": [
    "# Analisando apenas duas features \n",
    "#X = X.loc[:, ['balance', 'credit_limit']]"
   ]
  },
  {
   "cell_type": "code",
   "execution_count": 37,
   "metadata": {
    "ExecuteTime": {
     "end_time": "2021-12-20T21:58:18.906785Z",
     "start_time": "2021-12-20T21:58:18.903342Z"
    }
   },
   "outputs": [],
   "source": [
    "#sns.scatterplot( x='balance', y='credit_limit', data=X) ;\n",
    "# Vemos que os dados estão muito misturados entre eles mesmo"
   ]
  },
  {
   "cell_type": "code",
   "execution_count": null,
   "metadata": {},
   "outputs": [],
   "source": []
  },
  {
   "cell_type": "markdown",
   "metadata": {},
   "source": [
    "# 7.0 Hyperparameter Fine-Tunning"
   ]
  },
  {
   "cell_type": "code",
   "execution_count": 77,
   "metadata": {
    "ExecuteTime": {
     "end_time": "2021-12-20T22:23:42.089291Z",
     "start_time": "2021-12-20T22:23:42.084581Z"
    }
   },
   "outputs": [],
   "source": [
    "df7 = df5.copy()"
   ]
  },
  {
   "cell_type": "markdown",
   "metadata": {},
   "source": [
    "## 7.1. K-Means"
   ]
  },
  {
   "cell_type": "code",
   "execution_count": 78,
   "metadata": {
    "ExecuteTime": {
     "end_time": "2021-12-20T22:23:43.001404Z",
     "start_time": "2021-12-20T22:23:42.967986Z"
    }
   },
   "outputs": [
    {
     "ename": "ValueError",
     "evalue": "Input contains NaN, infinity or a value too large for dtype('float64').",
     "output_type": "error",
     "traceback": [
      "\u001b[0;31m---------------------------------------------------------------------------\u001b[0m",
      "\u001b[0;31mValueError\u001b[0m                                Traceback (most recent call last)",
      "\u001b[0;32m<ipython-input-78-16d05f3179c7>\u001b[0m in \u001b[0;36m<module>\u001b[0;34m\u001b[0m\n\u001b[1;32m     13\u001b[0m \u001b[0;34m\u001b[0m\u001b[0m\n\u001b[1;32m     14\u001b[0m     \u001b[0;31m# model training\u001b[0m\u001b[0;34m\u001b[0m\u001b[0;34m\u001b[0m\u001b[0;34m\u001b[0m\u001b[0m\n\u001b[0;32m---> 15\u001b[0;31m     \u001b[0mkmeans_model\u001b[0m\u001b[0;34m.\u001b[0m\u001b[0mfit\u001b[0m\u001b[0;34m(\u001b[0m \u001b[0mX\u001b[0m \u001b[0;34m)\u001b[0m\u001b[0;34m\u001b[0m\u001b[0;34m\u001b[0m\u001b[0m\n\u001b[0m\u001b[1;32m     16\u001b[0m     \u001b[0;31m# X é o df\u001b[0m\u001b[0;34m\u001b[0m\u001b[0;34m\u001b[0m\u001b[0;34m\u001b[0m\u001b[0m\n\u001b[1;32m     17\u001b[0m \u001b[0;34m\u001b[0m\u001b[0m\n",
      "\u001b[0;32m~/.local/lib/python3.8/site-packages/sklearn/cluster/_kmeans.py\u001b[0m in \u001b[0;36mfit\u001b[0;34m(self, X, y, sample_weight)\u001b[0m\n\u001b[1;32m    977\u001b[0m             \u001b[0mFitted\u001b[0m \u001b[0mestimator\u001b[0m\u001b[0;34m.\u001b[0m\u001b[0;34m\u001b[0m\u001b[0;34m\u001b[0m\u001b[0m\n\u001b[1;32m    978\u001b[0m         \"\"\"\n\u001b[0;32m--> 979\u001b[0;31m         X = self._validate_data(X, accept_sparse='csr',\n\u001b[0m\u001b[1;32m    980\u001b[0m                                 \u001b[0mdtype\u001b[0m\u001b[0;34m=\u001b[0m\u001b[0;34m[\u001b[0m\u001b[0mnp\u001b[0m\u001b[0;34m.\u001b[0m\u001b[0mfloat64\u001b[0m\u001b[0;34m,\u001b[0m \u001b[0mnp\u001b[0m\u001b[0;34m.\u001b[0m\u001b[0mfloat32\u001b[0m\u001b[0;34m]\u001b[0m\u001b[0;34m,\u001b[0m\u001b[0;34m\u001b[0m\u001b[0;34m\u001b[0m\u001b[0m\n\u001b[1;32m    981\u001b[0m                                 \u001b[0morder\u001b[0m\u001b[0;34m=\u001b[0m\u001b[0;34m'C'\u001b[0m\u001b[0;34m,\u001b[0m \u001b[0mcopy\u001b[0m\u001b[0;34m=\u001b[0m\u001b[0mself\u001b[0m\u001b[0;34m.\u001b[0m\u001b[0mcopy_x\u001b[0m\u001b[0;34m,\u001b[0m\u001b[0;34m\u001b[0m\u001b[0;34m\u001b[0m\u001b[0m\n",
      "\u001b[0;32m~/.local/lib/python3.8/site-packages/sklearn/base.py\u001b[0m in \u001b[0;36m_validate_data\u001b[0;34m(self, X, y, reset, validate_separately, **check_params)\u001b[0m\n\u001b[1;32m    419\u001b[0m             \u001b[0mout\u001b[0m \u001b[0;34m=\u001b[0m \u001b[0mX\u001b[0m\u001b[0;34m\u001b[0m\u001b[0;34m\u001b[0m\u001b[0m\n\u001b[1;32m    420\u001b[0m         \u001b[0;32melif\u001b[0m \u001b[0misinstance\u001b[0m\u001b[0;34m(\u001b[0m\u001b[0my\u001b[0m\u001b[0;34m,\u001b[0m \u001b[0mstr\u001b[0m\u001b[0;34m)\u001b[0m \u001b[0;32mand\u001b[0m \u001b[0my\u001b[0m \u001b[0;34m==\u001b[0m \u001b[0;34m'no_validation'\u001b[0m\u001b[0;34m:\u001b[0m\u001b[0;34m\u001b[0m\u001b[0;34m\u001b[0m\u001b[0m\n\u001b[0;32m--> 421\u001b[0;31m             \u001b[0mX\u001b[0m \u001b[0;34m=\u001b[0m \u001b[0mcheck_array\u001b[0m\u001b[0;34m(\u001b[0m\u001b[0mX\u001b[0m\u001b[0;34m,\u001b[0m \u001b[0;34m**\u001b[0m\u001b[0mcheck_params\u001b[0m\u001b[0;34m)\u001b[0m\u001b[0;34m\u001b[0m\u001b[0;34m\u001b[0m\u001b[0m\n\u001b[0m\u001b[1;32m    422\u001b[0m             \u001b[0mout\u001b[0m \u001b[0;34m=\u001b[0m \u001b[0mX\u001b[0m\u001b[0;34m\u001b[0m\u001b[0;34m\u001b[0m\u001b[0m\n\u001b[1;32m    423\u001b[0m         \u001b[0;32melse\u001b[0m\u001b[0;34m:\u001b[0m\u001b[0;34m\u001b[0m\u001b[0;34m\u001b[0m\u001b[0m\n",
      "\u001b[0;32m~/.local/lib/python3.8/site-packages/sklearn/utils/validation.py\u001b[0m in \u001b[0;36minner_f\u001b[0;34m(*args, **kwargs)\u001b[0m\n\u001b[1;32m     61\u001b[0m             \u001b[0mextra_args\u001b[0m \u001b[0;34m=\u001b[0m \u001b[0mlen\u001b[0m\u001b[0;34m(\u001b[0m\u001b[0margs\u001b[0m\u001b[0;34m)\u001b[0m \u001b[0;34m-\u001b[0m \u001b[0mlen\u001b[0m\u001b[0;34m(\u001b[0m\u001b[0mall_args\u001b[0m\u001b[0;34m)\u001b[0m\u001b[0;34m\u001b[0m\u001b[0;34m\u001b[0m\u001b[0m\n\u001b[1;32m     62\u001b[0m             \u001b[0;32mif\u001b[0m \u001b[0mextra_args\u001b[0m \u001b[0;34m<=\u001b[0m \u001b[0;36m0\u001b[0m\u001b[0;34m:\u001b[0m\u001b[0;34m\u001b[0m\u001b[0;34m\u001b[0m\u001b[0m\n\u001b[0;32m---> 63\u001b[0;31m                 \u001b[0;32mreturn\u001b[0m \u001b[0mf\u001b[0m\u001b[0;34m(\u001b[0m\u001b[0;34m*\u001b[0m\u001b[0margs\u001b[0m\u001b[0;34m,\u001b[0m \u001b[0;34m**\u001b[0m\u001b[0mkwargs\u001b[0m\u001b[0;34m)\u001b[0m\u001b[0;34m\u001b[0m\u001b[0;34m\u001b[0m\u001b[0m\n\u001b[0m\u001b[1;32m     64\u001b[0m \u001b[0;34m\u001b[0m\u001b[0m\n\u001b[1;32m     65\u001b[0m             \u001b[0;31m# extra_args > 0\u001b[0m\u001b[0;34m\u001b[0m\u001b[0;34m\u001b[0m\u001b[0;34m\u001b[0m\u001b[0m\n",
      "\u001b[0;32m~/.local/lib/python3.8/site-packages/sklearn/utils/validation.py\u001b[0m in \u001b[0;36mcheck_array\u001b[0;34m(array, accept_sparse, accept_large_sparse, dtype, order, copy, force_all_finite, ensure_2d, allow_nd, ensure_min_samples, ensure_min_features, estimator)\u001b[0m\n\u001b[1;32m    718\u001b[0m \u001b[0;34m\u001b[0m\u001b[0m\n\u001b[1;32m    719\u001b[0m         \u001b[0;32mif\u001b[0m \u001b[0mforce_all_finite\u001b[0m\u001b[0;34m:\u001b[0m\u001b[0;34m\u001b[0m\u001b[0;34m\u001b[0m\u001b[0m\n\u001b[0;32m--> 720\u001b[0;31m             _assert_all_finite(array,\n\u001b[0m\u001b[1;32m    721\u001b[0m                                allow_nan=force_all_finite == 'allow-nan')\n\u001b[1;32m    722\u001b[0m \u001b[0;34m\u001b[0m\u001b[0m\n",
      "\u001b[0;32m~/.local/lib/python3.8/site-packages/sklearn/utils/validation.py\u001b[0m in \u001b[0;36m_assert_all_finite\u001b[0;34m(X, allow_nan, msg_dtype)\u001b[0m\n\u001b[1;32m    101\u001b[0m                 not allow_nan and not np.isfinite(X).all()):\n\u001b[1;32m    102\u001b[0m             \u001b[0mtype_err\u001b[0m \u001b[0;34m=\u001b[0m \u001b[0;34m'infinity'\u001b[0m \u001b[0;32mif\u001b[0m \u001b[0mallow_nan\u001b[0m \u001b[0;32melse\u001b[0m \u001b[0;34m'NaN, infinity'\u001b[0m\u001b[0;34m\u001b[0m\u001b[0;34m\u001b[0m\u001b[0m\n\u001b[0;32m--> 103\u001b[0;31m             raise ValueError(\n\u001b[0m\u001b[1;32m    104\u001b[0m                     \u001b[0mmsg_err\u001b[0m\u001b[0;34m.\u001b[0m\u001b[0mformat\u001b[0m\u001b[0;34m\u001b[0m\u001b[0;34m\u001b[0m\u001b[0m\n\u001b[1;32m    105\u001b[0m                     (type_err,\n",
      "\u001b[0;31mValueError\u001b[0m: Input contains NaN, infinity or a value too large for dtype('float64')."
     ]
    }
   ],
   "source": [
    "#from sklearn             import cluster              as c\n",
    "\n",
    "from sklearn.cluster import KMeans\n",
    "#from sklearn import clustering\n",
    "clusters = [2, 3, 4, 5, 6, 7, 8 ]\n",
    "\n",
    "silhouette_list = []\n",
    "davies_list = []\n",
    "\n",
    "for k in clusters:\n",
    "    # Model definition\n",
    "    kmeans_model = c.KMeans( n_clusters=k )\n",
    "    \n",
    "    # model training\n",
    "    kmeans_model.fit( X )\n",
    "    # X é o df\n",
    "    \n",
    "    # model predict\n",
    "    labels = kmeans_model.predict( X )\n",
    "    # agrupando o cluster\n",
    "    \n",
    "    # model performance\n",
    "    sil = m.silhouette_score( X, labels )\n",
    "    dav = m.davies_bouldin_score( X, labels ) #analisando a métrica \n",
    "    \n",
    "    silhouette_list.append( sil )# Append listas para plotagem do gráfico\n",
    "    davies_list.append( dav )\n",
    "    #print( sil )\n",
    "    \n",
    "    "
   ]
  },
  {
   "cell_type": "code",
   "execution_count": 59,
   "metadata": {
    "ExecuteTime": {
     "end_time": "2021-12-20T22:16:48.300722Z",
     "start_time": "2021-12-20T22:16:47.740317Z"
    },
    "cell_style": "split"
   },
   "outputs": [
    {
     "data": {
      "image/png": "[encoded data removed]",
      "text/plain": [
       "<Figure size 1440x720 with 1 Axes>"
      ]
     },
     "metadata": {},
     "output_type": "display_data"
    }
   ],
   "source": [
    "plt.plot( clusters, silhouette_list, linestyle='--', marker='o', color='blue' );\n",
    "plt.xlabel('K - Number of Clusters')\n",
    "plt.ylabel('SS - Silhouette Score')\n",
    "plt.title('Silhouette Score');"
   ]
  },
  {
   "cell_type": "code",
   "execution_count": 60,
   "metadata": {
    "ExecuteTime": {
     "end_time": "2021-12-20T22:16:52.076680Z",
     "start_time": "2021-12-20T22:16:51.549590Z"
    },
    "cell_style": "split"
   },
   "outputs": [
    {
     "data": {
      "image/png": "[encoded data removed]",
      "text/plain": [
       "<Figure size 1440x720 with 1 Axes>"
      ]
     },
     "metadata": {},
     "output_type": "display_data"
    }
   ],
   "source": [
    "plt.plot( clusters, davies_list, linestyle='--', marker='o', color='blue' );\n",
    "plt.xlabel('K - Number of Clusters')\n",
    "plt.ylabel('DB-Index')\n",
    "plt.title('Silhouette Score');"
   ]
  },
  {
   "cell_type": "markdown",
   "metadata": {},
   "source": [
    "## 7.1 Silhouette Analysis"
   ]
  },
  {
   "cell_type": "code",
   "execution_count": 43,
   "metadata": {
    "ExecuteTime": {
     "end_time": "2021-12-20T21:59:02.436322Z",
     "start_time": "2021-12-20T21:59:00.343777Z"
    }
   },
   "outputs": [
    {
     "ename": "NameError",
     "evalue": "name 'kmeans' is not defined",
     "output_type": "error",
     "traceback": [
      "\u001b[0;31m---------------------------------------------------------------------------\u001b[0m",
      "\u001b[0;31mNameError\u001b[0m                                 Traceback (most recent call last)",
      "\u001b[0;32m<ipython-input-43-df8954d2f0d4>\u001b[0m in \u001b[0;36m<module>\u001b[0;34m\u001b[0m\n\u001b[1;32m      4\u001b[0m     \u001b[0mkm\u001b[0m \u001b[0;34m=\u001b[0m \u001b[0mc\u001b[0m\u001b[0;34m.\u001b[0m\u001b[0mKMeans\u001b[0m\u001b[0;34m(\u001b[0m \u001b[0mn_clusters\u001b[0m\u001b[0;34m=\u001b[0m\u001b[0mk\u001b[0m\u001b[0;34m,\u001b[0m \u001b[0minit\u001b[0m\u001b[0;34m=\u001b[0m\u001b[0;34m'random'\u001b[0m\u001b[0;34m,\u001b[0m \u001b[0mn_init\u001b[0m\u001b[0;34m=\u001b[0m\u001b[0;36m10\u001b[0m\u001b[0;34m,\u001b[0m \u001b[0mmax_iter\u001b[0m\u001b[0;34m=\u001b[0m\u001b[0;36m100\u001b[0m\u001b[0;34m,\u001b[0m \u001b[0mrandom_state\u001b[0m\u001b[0;34m=\u001b[0m\u001b[0;36m42\u001b[0m \u001b[0;34m)\u001b[0m\u001b[0;34m\u001b[0m\u001b[0;34m\u001b[0m\u001b[0m\n\u001b[1;32m      5\u001b[0m     \u001b[0mq\u001b[0m\u001b[0;34m,\u001b[0m \u001b[0mmod\u001b[0m \u001b[0;34m=\u001b[0m \u001b[0mdivmod\u001b[0m\u001b[0;34m(\u001b[0m \u001b[0mk\u001b[0m\u001b[0;34m,\u001b[0m \u001b[0;36m2\u001b[0m \u001b[0;34m)\u001b[0m\u001b[0;34m\u001b[0m\u001b[0;34m\u001b[0m\u001b[0m\n\u001b[0;32m----> 6\u001b[0;31m     \u001b[0mlabels\u001b[0m \u001b[0;34m=\u001b[0m \u001b[0mkmeans\u001b[0m\u001b[0;34m.\u001b[0m\u001b[0mlabels_\u001b[0m\u001b[0;34m\u001b[0m\u001b[0;34m\u001b[0m\u001b[0m\n\u001b[0m\u001b[1;32m      7\u001b[0m     \u001b[0mdb\u001b[0m\u001b[0;34m(\u001b[0m\u001b[0mX\u001b[0m\u001b[0;34m,\u001b[0m \u001b[0mlabels\u001b[0m\u001b[0;34m)\u001b[0m\u001b[0;34m\u001b[0m\u001b[0;34m\u001b[0m\u001b[0m\n\u001b[1;32m      8\u001b[0m \u001b[0;34m\u001b[0m\u001b[0m\n",
      "\u001b[0;31mNameError\u001b[0m: name 'kmeans' is not defined"
     ]
    },
    {
     "data": {
      "image/png": "[encoded data removed]",
      "text/plain": [
       "<Figure size 1800x1296 with 6 Axes>"
      ]
     },
     "metadata": {},
     "output_type": "display_data"
    }
   ],
   "source": [
    "fig, ax = plt.subplots( 3, 2, figsize=(25, 18) )\n",
    "\n",
    "for k in clusters:\n",
    "    km = c.KMeans( n_clusters=k, init='random', n_init=10, max_iter=100, random_state=42 )\n",
    "    q, mod = divmod( k, 2 )\n",
    "    labels = kmeans.labels_\n",
    "    db(X, labels)\n",
    "    \n",
    "    visualizer = SilhouetteVisualizer( km, colors='yellowbrick', ax=ax[q-1][mod] )\n",
    "    visualizer.fit( df7 )\n",
    "    visualizer.finalize();"
   ]
  },
  {
   "cell_type": "markdown",
   "metadata": {},
   "source": [
    "## 7.2 DBscan Analysis"
   ]
  },
  {
   "cell_type": "code",
   "execution_count": 31,
   "metadata": {
    "ExecuteTime": {
     "end_time": "2021-11-18T19:23:41.333702Z",
     "start_time": "2021-11-18T19:23:41.328804Z"
    }
   },
   "outputs": [],
   "source": [
    "#from sklearn.cluster import DBSCAN\n",
    "#from sklearn.metrics import davies_bouldin_score as db"
   ]
  },
  {
   "cell_type": "code",
   "execution_count": 34,
   "metadata": {
    "ExecuteTime": {
     "end_time": "2021-11-18T19:29:15.247976Z",
     "start_time": "2021-11-18T19:29:13.139694Z"
    }
   },
   "outputs": [
    {
     "data": {
      "text/plain": [
       "1.1904352423164577"
      ]
     },
     "execution_count": 34,
     "metadata": {},
     "output_type": "execute_result"
    }
   ],
   "source": [
    "# No DB-index procuramos os cluster mais próximos de zero.\n",
    "# Esse índice significa a 'similaridade' média entre os clusters, \n",
    "#em que a similaridade é uma medida que compara a distância entre \n",
    "#os clusters com o tamanho dos próprios clusters.\n",
    "# Um índice Davies-Bouldin mais baixo está relacionado a um modelo com melhor separação entre os clusters.\n",
    "\n",
    "kmeans = c.KMeans(n_clusters=3, random_state=1).fit(df7)\n",
    "labels = kmeans.labels_\n",
    "db(df7, labels)"
   ]
  },
  {
   "cell_type": "code",
   "execution_count": null,
   "metadata": {},
   "outputs": [],
   "source": [
    "# Nesse ponto, temos uma métrica muito alta no DB-scan que significa uma similiaridade muita baixa entre os Clusters"
   ]
  },
  {
   "cell_type": "markdown",
   "metadata": {
    "heading_collapsed": true
   },
   "source": [
    "# 8.0 Model Training"
   ]
  },
  {
   "cell_type": "code",
   "execution_count": 35,
   "metadata": {
    "ExecuteTime": {
     "end_time": "2021-11-18T19:32:43.229068Z",
     "start_time": "2021-11-18T19:32:43.224326Z"
    },
    "hidden": true
   },
   "outputs": [],
   "source": [
    "df8 = df7.copy()"
   ]
  },
  {
   "cell_type": "markdown",
   "metadata": {
    "hidden": true
   },
   "source": [
    "## 8.2. Cluster Validation"
   ]
  },
  {
   "cell_type": "code",
   "execution_count": null,
   "metadata": {
    "ExecuteTime": {
     "end_time": "2021-10-29T13:54:13.643544Z",
     "start_time": "2021-10-29T13:54:12.336075Z"
    },
    "hidden": true
   },
   "outputs": [],
   "source": [
    "## WSS ( Within-cluster sum of square)\n",
    "print( 'WSS value: {}'.format( kmeans.inertia_ ) )\n",
    "\n",
    "## SS ( Silhouette Score )\n",
    "print( 'SS value: {}'.format( m.silhouette_score( df7, labels, metric='euclidean' ) ) )"
   ]
  },
  {
   "cell_type": "markdown",
   "metadata": {
    "ExecuteTime": {
     "end_time": "2021-10-21T22:36:18.921909Z",
     "start_time": "2021-10-21T22:36:18.919679Z"
    },
    "heading_collapsed": true
   },
   "source": [
    "# 9.0 Cluster Analysis"
   ]
  },
  {
   "cell_type": "code",
   "execution_count": 17,
   "metadata": {
    "ExecuteTime": {
     "end_time": "2021-11-10T11:20:11.660117Z",
     "start_time": "2021-11-10T11:20:11.652786Z"
    },
    "hidden": true
   },
   "outputs": [],
   "source": [
    "df9 = df1.copy()"
   ]
  },
  {
   "cell_type": "code",
   "execution_count": null,
   "metadata": {
    "ExecuteTime": {
     "end_time": "2021-10-29T13:54:22.862565Z",
     "start_time": "2021-10-29T13:54:22.833635Z"
    },
    "hidden": true
   },
   "outputs": [],
   "source": [
    "df9 = df6.copy()\n",
    "df9['cluster'] = labels\n",
    "df9.head()"
   ]
  },
  {
   "cell_type": "markdown",
   "metadata": {
    "hidden": true
   },
   "source": [
    "## 9.1. Visualization Inspection"
   ]
  },
  {
   "cell_type": "code",
   "execution_count": null,
   "metadata": {
    "ExecuteTime": {
     "end_time": "2021-10-29T13:54:44.398593Z",
     "start_time": "2021-10-29T13:54:41.642867Z"
    },
    "hidden": true
   },
   "outputs": [],
   "source": [
    "visualizer = SilhouetteVisualizer( kmeans, colors='yellowbrick' )\n",
    "visualizer.fit(df7)\n",
    "visualizer.finalize()"
   ]
  },
  {
   "cell_type": "markdown",
   "metadata": {
    "hidden": true
   },
   "source": [
    "## 9.2 2d Plot"
   ]
  },
  {
   "cell_type": "code",
   "execution_count": null,
   "metadata": {
    "ExecuteTime": {
     "start_time": "2021-10-29T13:55:27.942Z"
    },
    "hidden": true
   },
   "outputs": [],
   "source": [
    "df_viz = df9.drop( columns='cust_id', axis=1 )\n",
    "sns.pairplot( df_viz, hue='cluster' )"
   ]
  },
  {
   "cell_type": "markdown",
   "metadata": {
    "hidden": true
   },
   "source": [
    "## 9.3 UMAP"
   ]
  },
  {
   "cell_type": "code",
   "execution_count": null,
   "metadata": {
    "ExecuteTime": {
     "end_time": "2021-10-23T16:23:19.944645Z",
     "start_time": "2021-10-23T16:22:39.515793Z"
    },
    "hidden": true
   },
   "outputs": [],
   "source": [
    "reducer = umap.UMAP( n_neighbors=80, random_state=42 )\n",
    "embedding = reducer.fit_transform( df7 )\n",
    "\n",
    "# embedding\n",
    "df_viz['embedding_x'] = embedding[:, 0]\n",
    "df_viz['embedding_y'] = embedding[:, 1]\n",
    "\n",
    "# plot UMAP\n",
    "sns.scatterplot( x='embedding_x', y='embedding_y', \n",
    "                 hue='cluster', \n",
    "                 palette=sns.color_palette( 'hls', n_colors=len( df_viz['cluster'].unique() ) ),\n",
    "                 data=df_viz )"
   ]
  },
  {
   "cell_type": "markdown",
   "metadata": {
    "hidden": true
   },
   "source": [
    "## 9.2. Cluster Profile"
   ]
  },
  {
   "cell_type": "code",
   "execution_count": null,
   "metadata": {
    "ExecuteTime": {
     "end_time": "2021-10-23T16:22:10.964412Z",
     "start_time": "2021-10-23T16:22:10.964400Z"
    },
    "hidden": true
   },
   "outputs": [],
   "source": [
    "df9.head()"
   ]
  },
  {
   "cell_type": "code",
   "execution_count": null,
   "metadata": {
    "ExecuteTime": {
     "end_time": "2021-10-23T21:42:13.759574Z",
     "start_time": "2021-10-23T21:42:13.747516Z"
    },
    "hidden": true
   },
   "outputs": [],
   "source": [
    "# Number of customer\n",
    "df_cluster = df9[['cust_id', 'cluster']].groupby( 'cluster' ).count().reset_index()\n",
    "df_cluster['perc_customer'] = 100*( df_cluster['cust_id'] / df_cluster['cust_id'].sum() )\n",
    "\n",
    "df_cluster"
   ]
  },
  {
   "cell_type": "markdown",
   "metadata": {},
   "source": [
    "# 10.0 Deploy"
   ]
  },
  {
   "cell_type": "code",
   "execution_count": null,
   "metadata": {
    "ExecuteTime": {
     "end_time": "2021-10-23T15:49:10.791442Z",
     "start_time": "2021-10-23T15:49:10.788337Z"
    }
   },
   "outputs": [],
   "source": [
    "df10 = df9.copy()"
   ]
  }
 ],
 "metadata": {
  "hide_input": false,
  "kernelspec": {
   "display_name": "Python 3",
   "language": "python",
   "name": "python3"
  },
  "language_info": {
   "codemirror_mode": {
    "name": "ipython",
    "version": 3
   },
   "file_extension": ".py",
   "mimetype": "text/x-python",
   "name": "python",
   "nbconvert_exporter": "python",
   "pygments_lexer": "ipython3",
   "version": "3.8.10"
  },
  "nbTranslate": {
   "displayLangs": [
    "*"
   ],
   "hotkey": "alt-t",
   "langInMainMenu": true,
   "sourceLang": "en",
   "targetLang": "fr",
   "useGoogleTranslate": true
  }
 },
 "nbformat": 4,
 "nbformat_minor": 5
}
